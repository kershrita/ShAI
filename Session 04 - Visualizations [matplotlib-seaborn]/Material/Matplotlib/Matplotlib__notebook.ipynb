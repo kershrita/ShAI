{
  "cells": [
    {
      "cell_type": "markdown",
      "metadata": {
        "id": "YP90mkeSgo4-"
      },
      "source": [
        "# **Why do we need to visualize our data?**\n",
        "\n",
        "\n",
        "\n",
        "*   Human brain works well with plotted data, not raw data.\n",
        "*   To find trends and patterns.\n",
        "*   To find outliers.\n",
        "\n",
        "\n",
        "\n"
      ]
    },
    {
      "cell_type": "markdown",
      "metadata": {
        "id": "v5Jds_yhOQUF"
      },
      "source": [
        "# Matplotlib\n",
        "\n",
        "Matplotlib is a comprehensive library for creating static, animated, and interactive visualizations in Python.\n",
        "\n",
        "Matplotlib is easy to use, gives good quality and customizable plots."
      ]
    },
    {
      "cell_type": "markdown",
      "metadata": {
        "id": "ZZ6LHyjHOQUR"
      },
      "source": [
        "# To get started:\n",
        "### 1- Installation **(if you are using colab, skip these two cells)**:\n",
        "To intall matplotlib, in the anaconda prompt use the following command: \n",
        "###### conda install matplotlib \n",
        "\n",
        "if you are not using anaconda, you can install matplotlib through the python prompt with the following command:\n",
        "###### pip install matplotlib\n",
        "\n",
        "To check that matplotlib has been installed successfuly, check Anaconda Navigator, Environment section.\n",
        "\n",
        "Or you can type the following lines in your notebook:\n"
      ]
    },
    {
      "cell_type": "code",
      "execution_count": null,
      "metadata": {
        "colab": {
          "base_uri": "https://localhost:8080/"
        },
        "id": "vRgIkK-8OQUS",
        "outputId": "4ab3de4e-ae2d-4287-bb0a-21e0826b1d16"
      },
      "outputs": [
        {
          "output_type": "stream",
          "name": "stdout",
          "text": [
            "3.5.3\n"
          ]
        }
      ],
      "source": [
        "import matplotlib\n",
        "print(matplotlib.__version__)\n",
        "import numpy as np"
      ]
    },
    {
      "cell_type": "markdown",
      "metadata": {
        "id": "tOv4lI3POQUU"
      },
      "source": [
        "### 2- importing the package:\n",
        "\n",
        "Now, to start creating plots, we need to import the matplotlib.pyplot\n",
        "\n",
        "###### import matplotlib.pyplot as plt\n",
        "\n",
        "pyplot automatically create and manage the figures and axes for us."
      ]
    },
    {
      "cell_type": "code",
      "execution_count": 1,
      "metadata": {
        "id": "P0X-7fAeOQUV"
      },
      "outputs": [],
      "source": [
        "import matplotlib.pyplot as plt\n"
      ]
    },
    {
      "cell_type": "markdown",
      "metadata": {
        "id": "DM6yfdQrOQUV"
      },
      "source": [
        "### Before we start, keep in mind that most matplotlib functions have too many arguments:\n",
        " - you don't have to fill or even know all of them. \n",
        " - However, You you should know how to read the documentaion to pick what you need in your project.\n",
        "\n",
        "\n",
        "\n",
        "# Now, Let's Start creating some plots !\n",
        "\n",
        "### 1- Basic plot (line plot):\n",
        "let's start with the most basic plot function. \n",
        "#### plt.plot( )\n",
        "\n",
        "https://matplotlib.org/3.3.3/api/_as_gen/matplotlib.pyplot.plot.html"
      ]
    },
    {
      "cell_type": "markdown",
      "metadata": {
        "id": "WteksK79OQUZ"
      },
      "source": [
        "### To change the style of your plot, we will use a new optional argument.\n",
        "#### plt.plot(x,y, 'fmt')\n",
        "where fmt is the format of your plot, written as: '[marker][line][color]'\n",
        "\n",
        "\n",
        "fmt must be replaced with the style you want to use, as follow: \n",
        "- You can change the color of your line by typing the string that represents the color, ex: 'g' for green and 'b' for blue.\n",
        "- You can change the markers (points) shape by typing the sympol that represents the shape, ex: 'o' for circles markers and 'D' for diamonds markers.\n",
        "- You can change the line style by typing the sympol that represents the style, ex: '-' for solid lines and '--' for dashed lines.\n",
        "\n",
        "#### Note: You can combine between these three attributes or you can only change the one you want.\n",
        "#### You can refer to this documentation (Format Strings Section) to see more shapes and colors:\n",
        "\n",
        "https://matplotlib.org/3.3.3/api/_as_gen/matplotlib.pyplot.plot.html"
      ]
    },
    {
      "cell_type": "markdown",
      "metadata": {
        "id": "GJPpMTMWOQUX"
      },
      "source": [
        "### Good Practice: it is always useful to add a title to your figure and labels to its axes.\n",
        "\n"
      ]
    },
    {
      "cell_type": "code",
      "execution_count": 6,
      "metadata": {
        "colab": {
          "base_uri": "https://localhost:8080/",
          "height": 295
        },
        "id": "baRqCt1NOQUZ",
        "outputId": "21ad4b37-6eb7-4392-ad4b-969d2ccf44d9"
      },
      "outputs": [
        {
          "output_type": "display_data",
          "data": {
            "text/plain": [
              "<Figure size 432x288 with 1 Axes>"
            ],
            "image/png": "[encoded data removed]"
          },
          "metadata": {
            "needs_background": "light"
          }
        }
      ],
      "source": [
        "x= [1,2,3,4]\n",
        "y= [10,20,30,40]\n",
        "\n",
        "plt.plot(x,y,'b-^')\n",
        "\n",
        "# why title and label?\n",
        "\n",
        "plt.title('My First Plot')\n",
        "plt.xlabel('x values')\n",
        "plt.ylabel('y valu es')\n",
        "\n",
        "plt.show()"
      ]
    },
    {
      "cell_type": "markdown",
      "metadata": {
        "id": "6GusItSZOQUa"
      },
      "source": [
        "## To draw multiple lines in the same plot:\n",
        " - You can call the plot function multiple times with the associated data in each call. (this way is more customizable)\n",
        " - if you want to use one call, type it as follows: plt.plot(x1, y1, x2, y2, ... etc)\n",
        "\n",
        "#### Example:"
      ]
    },
    {
      "cell_type": "code",
      "execution_count": 12,
      "metadata": {
        "colab": {
          "base_uri": "https://localhost:8080/",
          "height": 295
        },
        "id": "O-ljkzy_OQUb",
        "outputId": "cc19acff-27f1-4eca-f891-a601edf1bee7"
      },
      "outputs": [
        {
          "output_type": "display_data",
          "data": {
            "text/plain": [
              "<Figure size 432x288 with 1 Axes>"
            ],
            "image/png": "[encoded data removed]"
          },
          "metadata": {
            "needs_background": "light"
          }
        }
      ],
      "source": [
        "import numpy as np\n",
        "x1 = [1,2,3,4,5]\n",
        "x2 = [2,4,6,8,10]\n",
        "x3 = [10, 20, 30, 40, 50]\n",
        "\n",
        "y1 = np.array([2,4,6,8,10])\n",
        "y2 = y1 * 12\n",
        "\n",
        "# shall i use plt.show() after each plt.plot?\n",
        "\n",
        "plt.plot(x1,y1)\n",
        "# plt.show()\n",
        "\n",
        "plt.plot(x2,y2)\n",
        "# plt.show()\n",
        "plt.plot(x3,x1)\n",
        "plt.plot([10,30,50,70],[0,10,20,30])\n",
        "\n",
        "plt.title('My First Plot')\n",
        "plt.xlabel('x values')\n",
        "plt.ylabel('y valu es')\n",
        "\n",
        "plt.show()\n",
        "\n",
        "# (x,y)->[(2,24),(4,48)...]"
      ]
    },
    {
      "cell_type": "markdown",
      "metadata": {
        "id": "UqZDfb90OQUb"
      },
      "source": [
        "### important notes:\n",
        "\n",
        "#### 1. It is useful to use a legend in your figures. \n",
        "To do so, you have to use a new argument called \"label= \" in each plot.\n",
        "\n",
        "then before plt.show() use plt.legend()\n",
        "\n",
        "#### 2. Try to keep your lines consistent in the same figure\n",
        "( it is not useful to draw multiple lines with different scales in the same figure. )\n",
        "\n",
        "\n"
      ]
    },
    {
      "cell_type": "code",
      "execution_count": 14,
      "metadata": {
        "colab": {
          "base_uri": "https://localhost:8080/",
          "height": 295
        },
        "id": "na8_h0-hOQUc",
        "outputId": "d48b1a59-a5bc-4c41-c263-8c75af1e1e3d"
      },
      "outputs": [
        {
          "output_type": "display_data",
          "data": {
            "text/plain": [
              "<Figure size 432x288 with 1 Axes>"
            ],
            "image/png": "[encoded data removed]"
          },
          "metadata": {
            "needs_background": "light"
          }
        }
      ],
      "source": [
        "x1 = [1,2,3,4,5]\n",
        "x2 = [2,4,6,8,10]\n",
        "x3 = [10, 20, 30, 40, 50]\n",
        "\n",
        "y1 = [2,4,6,8,10]\n",
        "\n",
        "plt.plot(x1,y1, label = 'X1Y1')\n",
        "plt.plot(x2,y1, label = 'X2Y1')\n",
        "plt.plot(x3,y1, label = 'X3Y1')\n",
        "plt.title('My First Plot')\n",
        "plt.xlabel('x values')\n",
        "plt.ylabel('y valu es')\n",
        "\n",
        "plt.legend()\n",
        "plt.show()"
      ]
    },
    {
      "cell_type": "markdown",
      "metadata": {
        "id": "52YsiShmOQUd"
      },
      "source": [
        "# Using Numpy along with Matplotlib:\n",
        "\n",
        "Numpy is useful if you want to do some mathematical operations on your data before you plot it.\n",
        "\n",
        "#### Example:"
      ]
    },
    {
      "cell_type": "code",
      "execution_count": null,
      "metadata": {
        "id": "VZU8r2vmOQUe"
      },
      "outputs": [],
      "source": [
        "import numpy as np"
      ]
    },
    {
      "cell_type": "code",
      "execution_count": 16,
      "metadata": {
        "colab": {
          "base_uri": "https://localhost:8080/",
          "height": 265
        },
        "id": "Gy6GVcwWOQUe",
        "outputId": "a1716ef6-4f06-4e22-8ad3-a671940701f9",
        "scrolled": false
      },
      "outputs": [
        {
          "output_type": "display_data",
          "data": {
            "text/plain": [
              "<Figure size 432x288 with 1 Axes>"
            ],
            "image/png": "[encoded data removed]"
          },
          "metadata": {
            "needs_background": "light"
          }
        }
      ],
      "source": [
        "x = np.arange(0 ,6, 0.2)\n",
        "\n",
        "plt.plot(x, x, 'b-^')\n",
        "plt.plot(x, x**2, 'D')\n",
        "plt.plot(x, x**3, 'm^')\n",
        "\n",
        "plt.show()"
      ]
    },
    {
      "cell_type": "markdown",
      "metadata": {
        "id": "ZeaVtqOfOQUf"
      },
      "source": [
        "# 2- Bar plot. ( plt.bar() )\n",
        "\n",
        "It is helpful for categorical data.\n",
        "\n",
        "https://matplotlib.org/3.1.1/api/_as_gen/matplotlib.pyplot.bar.html\n",
        "\n",
        "https://python-graph-gallery.com/barplot/\n",
        "\n",
        "#### Example: given 5 groups ['G1', 'G2', 'G3', 'G4', 'G5'] with mean ages of [20, 35, 30, 27, 35], draw a bar plot using this data."
      ]
    },
    {
      "cell_type": "code",
      "execution_count": 17,
      "metadata": {
        "colab": {
          "base_uri": "https://localhost:8080/",
          "height": 279
        },
        "id": "mNxiu7fvOQUf",
        "outputId": "4829df28-d38f-41b2-8d5f-9b1e81da3dc6",
        "scrolled": true
      },
      "outputs": [
        {
          "output_type": "display_data",
          "data": {
            "text/plain": [
              "<Figure size 432x288 with 1 Axes>"
            ],
            "image/png": "[encoded data removed]"
          },
          "metadata": {
            "needs_background": "light"
          }
        }
      ],
      "source": [
        "labels = ['G1', 'G2', 'G3', 'G4', 'G5']\n",
        "\n",
        "mean_ages = [20, 35, 30, 27, 35]\n",
        "\n",
        "plt.bar(labels, mean_ages)\n",
        "plt.ylabel('mean ages')\n",
        "plt.xlabel('groups')\n",
        "\n",
        "plt.show()"
      ]
    },
    {
      "cell_type": "markdown",
      "metadata": {
        "id": "24-tZtV6OQUg"
      },
      "source": [
        "#### Now, supposes the first list of ages was for men,\n",
        "#### given [25, 32, 34, 20, 25] as women mean ages, \n",
        "#### plot them in the same figure with men ages."
      ]
    },
    {
      "cell_type": "code",
      "execution_count": 89,
      "metadata": {
        "colab": {
          "base_uri": "https://localhost:8080/",
          "height": 282
        },
        "id": "vJpjujGaOQUh",
        "outputId": "00b01d08-78a6-40c1-972b-bd4b915c7287"
      },
      "outputs": [
        {
          "output_type": "display_data",
          "data": {
            "text/plain": [
              "<Figure size 432x288 with 1 Axes>"
            ],
            "image/png": "[encoded data removed]"
          },
          "metadata": {
            "needs_background": "light"
          }
        }
      ],
      "source": [
        "labels = ['G1', 'G2', 'G3', 'G4', 'G5']\n",
        "\n",
        "men_means = [20, 35, 30, 27, 35]\n",
        "women_means = [25, 32, 34, 20, 25]\n",
        "\n",
        "plt.bar(labels, men_means, color='b', label='men',bottom= women_means)\n",
        "plt.bar(labels, women_means, color='r', label='women')\n",
        "\n",
        "plt.ylabel('age means')\n",
        "plt.xlabel('groups')\n",
        "plt.legend()\n",
        "plt.show()"
      ]
    },
    {
      "cell_type": "code",
      "source": [
        "import numpy as np\n",
        "\n",
        "# labels = ['G1', 'G2', 'G3', 'G4', 'G5']\n",
        "\n",
        "men_means = [20.2, 35.6, 30, 27, 35]\n",
        "women_means = [25, 32, 34, 20, 25]\n",
        "\n",
        "X=np.arange(5)\n",
        "\n",
        "plt.bar(X,men_means, color='b', label='men',width = 0.25)\n",
        "plt.bar(X+.25, women_means, color='r', label='women',alpha = 0.3,width = 0.25)\n",
        "\n",
        "plt.bar(X,men_means, color='b', label='men',width = 0.25)\n",
        "plt.bar(X+.25, women_means, color='r', label='women',alpha = 0.3,width = 0.25)\n",
        "\n",
        "plt.ylabel('age means')\n",
        "plt.xlabel('groups')\n",
        "plt.legend()\n",
        "plt.show()"
      ],
      "metadata": {
        "colab": {
          "base_uri": "https://localhost:8080/",
          "height": 279
        },
        "id": "uWzvXOU8DZ5_",
        "outputId": "955771e1-855c-410c-a9d0-b6e29eaefbe8"
      },
      "execution_count": 90,
      "outputs": [
        {
          "output_type": "display_data",
          "data": {
            "text/plain": [
              "<Figure size 432x288 with 1 Axes>"
            ],
            "image/png": "[encoded data removed]"
          },
          "metadata": {
            "needs_background": "light"
          }
        }
      ]
    },
    {
      "cell_type": "markdown",
      "metadata": {
        "id": "dIoPQuYVOQUk"
      },
      "source": [
        "### To plot a horizontal bar plot:\n",
        "#### use plt.barh( )"
      ]
    },
    {
      "cell_type": "code",
      "execution_count": 24,
      "metadata": {
        "colab": {
          "base_uri": "https://localhost:8080/",
          "height": 279
        },
        "id": "u3Ae0gIkOQUl",
        "outputId": "f5173102-793a-4ffd-c1a6-37024857df62"
      },
      "outputs": [
        {
          "output_type": "display_data",
          "data": {
            "text/plain": [
              "<Figure size 432x288 with 1 Axes>"
            ],
            "image/png": "[encoded data removed]"
          },
          "metadata": {
            "needs_background": "light"
          }
        }
      ],
      "source": [
        "plt.barh(labels, men_means)\n",
        "plt.xlabel('men_means')\n",
        "plt.ylabel('groups')\n",
        "plt.show()"
      ]
    },
    {
      "cell_type": "markdown",
      "metadata": {
        "id": "TpSbsp-SOQUl"
      },
      "source": [
        "# 3- Pie Chart ( plt.pie( ) )\n",
        "Useful in visualizing the data percentage represented by each category.\n",
        "\n",
        "https://matplotlib.org/3.3.3/api/_as_gen/matplotlib.pyplot.pie.html#matplotlib.pyplot.pie"
      ]
    },
    {
      "cell_type": "code",
      "execution_count": 26,
      "metadata": {
        "colab": {
          "base_uri": "https://localhost:8080/",
          "height": 248
        },
        "id": "2pQenfMDOQUm",
        "outputId": "cbe3bf37-daa5-4ed7-92d1-5ed20a9b232a"
      },
      "outputs": [
        {
          "output_type": "display_data",
          "data": {
            "text/plain": [
              "<Figure size 432x288 with 1 Axes>"
            ],
            "image/png": "[encoded data removed]"
          },
          "metadata": {}
        }
      ],
      "source": [
        "myValues = np.array([10,20,30,15,25])\n",
        "myLabels = [\"G1\", \"G2\", \"G3\", \"G4\", \"G5\"]\n",
        "\n",
        "plt.pie(myValues, labels= myLabels)\n",
        "plt.show() "
      ]
    },
    {
      "cell_type": "markdown",
      "metadata": {
        "id": "lydOVyn7OQUm"
      },
      "source": [
        "#### If you want to highlight a specific piece of this pie you can use the \"explode\" argument as follows:"
      ]
    },
    {
      "cell_type": "code",
      "execution_count": 32,
      "metadata": {
        "colab": {
          "base_uri": "https://localhost:8080/",
          "height": 252
        },
        "id": "F9yhgeIjOQUm",
        "outputId": "b80c28b5-3ec7-4414-d22f-1f0e5edc7737"
      },
      "outputs": [
        {
          "output_type": "display_data",
          "data": {
            "text/plain": [
              "<Figure size 432x288 with 1 Axes>"
            ],
            "image/png": "[encoded data removed]"
          },
          "metadata": {}
        }
      ],
      "source": [
        "myExplode = [0,0.2,0,0,0]\n",
        "\n",
        "plt.pie(myValues, labels= myLabels, explode= myExplode)\n",
        "plt.show() "
      ]
    },
    {
      "cell_type": "markdown",
      "metadata": {
        "id": "CcrqnzifOQUp"
      },
      "source": [
        "# 4- Multiple plots in the same figure (subplots)\n",
        "\n",
        "> Indented block\n",
        "\n",
        "\n",
        "#### plt.subplot(rows, columns, position)\n",
        "https://matplotlib.org/3.3.3/api/_as_gen/matplotlib.pyplot.subplot.html"
      ]
    },
    {
      "cell_type": "code",
      "execution_count": 35,
      "metadata": {
        "colab": {
          "base_uri": "https://localhost:8080/",
          "height": 294
        },
        "id": "fVI2Pk7tCapi",
        "outputId": "4cdc388b-c7b2-4ec1-bac9-2b73ce752317"
      },
      "outputs": [
        {
          "output_type": "display_data",
          "data": {
            "text/plain": [
              "<Figure size 432x288 with 2 Axes>"
            ],
            "image/png": "[encoded data removed]"
          },
          "metadata": {
            "needs_background": "light"
          }
        }
      ],
      "source": [
        "import matplotlib.pyplot as plt \n",
        "\n",
        "x=[1,2,3,4,5,6]\n",
        "y=[4,3,5,6,7,4]\n",
        "\n",
        "fig=plt.figure()\n",
        "\n",
        "subplot1=fig.add_subplot(2,1,1)\n",
        "subplot1.plot(x, y)\n",
        "\n",
        "subplot2=fig.add_subplot(2,1,2)\n",
        "subplot2.text(0.3, 0.5, '2nd Subplot')\n",
        "\n",
        "fig.suptitle(\"Add subplots to a figure\")\n",
        "plt.show()"
      ]
    },
    {
      "cell_type": "code",
      "execution_count": 41,
      "metadata": {
        "colab": {
          "base_uri": "https://localhost:8080/",
          "height": 294
        },
        "id": "ryXSIrjIOQUp",
        "outputId": "8774562b-f6a5-4354-a0d8-c864b5d15b16"
      },
      "outputs": [
        {
          "output_type": "display_data",
          "data": {
            "text/plain": [
              "<Figure size 432x288 with 4 Axes>"
            ],
            "image/png": "[encoded data removed]"
          },
          "metadata": {
            "needs_background": "light"
          }
        }
      ],
      "source": [
        "# First plot\n",
        "x= [1,2,3,4]\n",
        "y= [10,20,30,40]\n",
        "\n",
        "plt.subplot(4, 4, 4)\n",
        "plt.plot(x,y)\n",
        "plt.title(\"Line plot\")\n",
        "\n",
        "#seconed plot \n",
        "x= [1,2,3,4]\n",
        "y= [10,20,30,40]\n",
        "plt.subplot(4, 4, 7)\n",
        "plt.plot(x,y)\n",
        "plt.title(\"Line plot\")#\n",
        "\n",
        "# 3ed plot\n",
        "x= [1,2,3,4]\n",
        "y= [10,20,30,40]\n",
        "plt.subplot(4, 4, 10)\n",
        "plt.plot(x,y)\n",
        "plt.title(\"Line plot\")\n",
        "\n",
        "# 4th plot\n",
        "x= [1,2,3,4]\n",
        "y= [10,20,30,40]\n",
        "plt.subplot(4, 4, 13)\n",
        "plt.plot(x,y)\n",
        "plt.title(\"Line plot\")\n",
        "\n",
        "# [1,2,3,4]\n",
        "# [5,6,7,8]\n",
        "# [9,10,11,12]\n",
        "# [13,14,15,16]\n",
        "\n",
        "# --------------------------\n",
        "\n",
        "# 5th plot\n",
        "labels = ['G1', 'G2', 'G3', 'G4', 'G5']\n",
        "men_means = [20, 35, 30, 27, 35]\n",
        "women_means = [25, 32, 34, 20, 25]\n",
        "\n",
        "# plt.subplot(4, 4, 6)\n",
        "# plt.bar(labels, men_means, color='b', label='men')\n",
        "# plt.bar(labels, women_means, color='r', label='women', bottom=men_means)\n",
        "# plt.legend()\n",
        "# plt.title(\"Bar plot\")\n",
        "\n",
        "# plt.subplot(4, 4, 7)\n",
        "# plt.bar(labels, men_means, color='b', label='men')\n",
        "# plt.bar(labels, women_means, color='r', label='women', bottom=men_means)\n",
        "# plt.legend()\n",
        "# plt.title(\"Bar plot\")\n",
        "\n",
        "plt.suptitle(\"Multiple plots\")\n",
        "plt.show()"
      ]
    },
    {
      "cell_type": "code",
      "execution_count": 42,
      "metadata": {
        "colab": {
          "base_uri": "https://localhost:8080/",
          "height": 252
        },
        "id": "xKFqrvC6OVDC",
        "outputId": "de4bac76-0131-44e7-99f2-9af67613ae0c"
      },
      "outputs": [
        {
          "output_type": "display_data",
          "data": {
            "text/plain": [
              "<Figure size 432x288 with 2 Axes>"
            ],
            "image/png": "[encoded data removed]"
          },
          "metadata": {
            "needs_background": "light"
          }
        }
      ],
      "source": [
        "# Creates blank canvas\n",
        "fig = plt.figure()\n",
        "\n",
        "# fig.add_axes( [left, bottom, width, height] )\n",
        "axes1 = fig.add_axes([0.0, 0.0, 0.6, 0.6]) # main axes\n",
        "axes2 = fig.add_axes([0.2, 0.2, 0.4, 0.4]) # inset axes\n",
        "\n",
        "# Larger Figure Axes 1\n",
        "axes1.plot(x, y, 'b')\n",
        "axes1.set_xlabel('X_label_axes2')\n",
        "axes1.set_ylabel('Y_label_axes2')\n",
        "axes1.set_title('Axes 2 Title')\n",
        "\n",
        "# Insert Figure Axes 2\n",
        "axes2.plot(y, x, 'r')\n",
        "axes2.set_xlabel('X_label_axes2')\n",
        "axes2.set_ylabel('Y_label_axes2')\n",
        "axes2.set_title('Axes 2 Title');"
      ]
    },
    {
      "cell_type": "code",
      "source": [
        "import pandas as pd"
      ],
      "metadata": {
        "id": "2Wr2z4mNcWs0"
      },
      "execution_count": 43,
      "outputs": []
    },
    {
      "cell_type": "markdown",
      "metadata": {
        "id": "eICFGpNPZ5TT"
      },
      "source": [
        "## Real world Example ##"
      ]
    },
    {
      "cell_type": "code",
      "execution_count": 45,
      "metadata": {
        "id": "SZG4KWsTQZ8O",
        "colab": {
          "base_uri": "https://localhost:8080/",
          "height": 206
        },
        "outputId": "6d50838a-ebe8-49b8-f13e-d3e98240a0ec"
      },
      "outputs": [
        {
          "output_type": "execute_result",
          "data": {
            "text/plain": [
              "   Year  Australia  Canada  France  Germany  Italy  Japan  Mexico  \\\n",
              "0  1990        NaN    1.87    3.63     2.65   4.59   3.16    1.00   \n",
              "1  1991       1.96    1.92    3.45     2.90   4.50   3.46    1.30   \n",
              "2  1992       1.89    1.73    3.56     3.27   4.53   3.58    1.50   \n",
              "3  1993       1.73    1.57    3.41     3.07   3.68   4.16    1.56   \n",
              "4  1994       1.84    1.45    3.59     3.52   3.70   4.36    1.48   \n",
              "\n",
              "   South Korea    UK   USA  \n",
              "0         2.05  2.82  1.16  \n",
              "1         2.49  3.01  1.14  \n",
              "2         2.65  3.06  1.13  \n",
              "3         2.88  2.84  1.11  \n",
              "4         2.87  2.99  1.11  "
            ],
            "text/html": [
              "\n",
              "  <div id=\"df-36806388-ad78-468b-8909-316e2c132193\">\n",
              "    <div class=\"colab-df-container\">\n",
              "      <div>\n",
              "<style scoped>\n",
              "    .dataframe tbody tr th:only-of-type {\n",
              "        vertical-align: middle;\n",
              "    }\n",
              "\n",
              "    .dataframe tbody tr th {\n",
              "        vertical-align: top;\n",
              "    }\n",
              "\n",
              "    .dataframe thead th {\n",
              "        text-align: right;\n",
              "    }\n",
              "</style>\n",
              "<table border=\"1\" class=\"dataframe\">\n",
              "  <thead>\n",
              "    <tr style=\"text-align: right;\">\n",
              "      <th></th>\n",
              "      <th>Year</th>\n",
              "      <th>Australia</th>\n",
              "      <th>Canada</th>\n",
              "      <th>France</th>\n",
              "      <th>Germany</th>\n",
              "      <th>Italy</th>\n",
              "      <th>Japan</th>\n",
              "      <th>Mexico</th>\n",
              "      <th>South Korea</th>\n",
              "      <th>UK</th>\n",
              "      <th>USA</th>\n",
              "    </tr>\n",
              "  </thead>\n",
              "  <tbody>\n",
              "    <tr>\n",
              "      <th>0</th>\n",
              "      <td>1990</td>\n",
              "      <td>NaN</td>\n",
              "      <td>1.87</td>\n",
              "      <td>3.63</td>\n",
              "      <td>2.65</td>\n",
              "      <td>4.59</td>\n",
              "      <td>3.16</td>\n",
              "      <td>1.00</td>\n",
              "      <td>2.05</td>\n",
              "      <td>2.82</td>\n",
              "      <td>1.16</td>\n",
              "    </tr>\n",
              "    <tr>\n",
              "      <th>1</th>\n",
              "      <td>1991</td>\n",
              "      <td>1.96</td>\n",
              "      <td>1.92</td>\n",
              "      <td>3.45</td>\n",
              "      <td>2.90</td>\n",
              "      <td>4.50</td>\n",
              "      <td>3.46</td>\n",
              "      <td>1.30</td>\n",
              "      <td>2.49</td>\n",
              "      <td>3.01</td>\n",
              "      <td>1.14</td>\n",
              "    </tr>\n",
              "    <tr>\n",
              "      <th>2</th>\n",
              "      <td>1992</td>\n",
              "      <td>1.89</td>\n",
              "      <td>1.73</td>\n",
              "      <td>3.56</td>\n",
              "      <td>3.27</td>\n",
              "      <td>4.53</td>\n",
              "      <td>3.58</td>\n",
              "      <td>1.50</td>\n",
              "      <td>2.65</td>\n",
              "      <td>3.06</td>\n",
              "      <td>1.13</td>\n",
              "    </tr>\n",
              "    <tr>\n",
              "      <th>3</th>\n",
              "      <td>1993</td>\n",
              "      <td>1.73</td>\n",
              "      <td>1.57</td>\n",
              "      <td>3.41</td>\n",
              "      <td>3.07</td>\n",
              "      <td>3.68</td>\n",
              "      <td>4.16</td>\n",
              "      <td>1.56</td>\n",
              "      <td>2.88</td>\n",
              "      <td>2.84</td>\n",
              "      <td>1.11</td>\n",
              "    </tr>\n",
              "    <tr>\n",
              "      <th>4</th>\n",
              "      <td>1994</td>\n",
              "      <td>1.84</td>\n",
              "      <td>1.45</td>\n",
              "      <td>3.59</td>\n",
              "      <td>3.52</td>\n",
              "      <td>3.70</td>\n",
              "      <td>4.36</td>\n",
              "      <td>1.48</td>\n",
              "      <td>2.87</td>\n",
              "      <td>2.99</td>\n",
              "      <td>1.11</td>\n",
              "    </tr>\n",
              "  </tbody>\n",
              "</table>\n",
              "</div>\n",
              "      <button class=\"colab-df-convert\" onclick=\"convertToInteractive('df-36806388-ad78-468b-8909-316e2c132193')\"\n",
              "              title=\"Convert this dataframe to an interactive table.\"\n",
              "              style=\"display:none;\">\n",
              "        \n",
              "  <svg xmlns=\"http://www.w3.org/2000/svg\" height=\"24px\"viewBox=\"0 0 24 24\"\n",
              "       width=\"24px\">\n",
              "    <path d=\"M0 0h24v24H0V0z\" fill=\"none\"/>\n",
              "    <path d=\"M18.56 5.44l.94 2.06.94-2.06 2.06-.94-2.06-.94-.94-2.06-.94 2.06-2.06.94zm-11 1L8.5 8.5l.94-2.06 2.06-.94-2.06-.94L8.5 2.5l-.94 2.06-2.06.94zm10 10l.94 2.06.94-2.06 2.06-.94-2.06-.94-.94-2.06-.94 2.06-2.06.94z\"/><path d=\"M17.41 7.96l-1.37-1.37c-.4-.4-.92-.59-1.43-.59-.52 0-1.04.2-1.43.59L10.3 9.45l-7.72 7.72c-.78.78-.78 2.05 0 2.83L4 21.41c.39.39.9.59 1.41.59.51 0 1.02-.2 1.41-.59l7.78-7.78 2.81-2.81c.8-.78.8-2.07 0-2.86zM5.41 20L4 18.59l7.72-7.72 1.47 1.35L5.41 20z\"/>\n",
              "  </svg>\n",
              "      </button>\n",
              "      \n",
              "  <style>\n",
              "    .colab-df-container {\n",
              "      display:flex;\n",
              "      flex-wrap:wrap;\n",
              "      gap: 12px;\n",
              "    }\n",
              "\n",
              "    .colab-df-convert {\n",
              "      background-color: #E8F0FE;\n",
              "      border: none;\n",
              "      border-radius: 50%;\n",
              "      cursor: pointer;\n",
              "      display: none;\n",
              "      fill: #1967D2;\n",
              "      height: 32px;\n",
              "      padding: 0 0 0 0;\n",
              "      width: 32px;\n",
              "    }\n",
              "\n",
              "    .colab-df-convert:hover {\n",
              "      background-color: #E2EBFA;\n",
              "      box-shadow: 0px 1px 2px rgba(60, 64, 67, 0.3), 0px 1px 3px 1px rgba(60, 64, 67, 0.15);\n",
              "      fill: #174EA6;\n",
              "    }\n",
              "\n",
              "    [theme=dark] .colab-df-convert {\n",
              "      background-color: #3B4455;\n",
              "      fill: #D2E3FC;\n",
              "    }\n",
              "\n",
              "    [theme=dark] .colab-df-convert:hover {\n",
              "      background-color: #434B5C;\n",
              "      box-shadow: 0px 1px 3px 1px rgba(0, 0, 0, 0.15);\n",
              "      filter: drop-shadow(0px 1px 2px rgba(0, 0, 0, 0.3));\n",
              "      fill: #FFFFFF;\n",
              "    }\n",
              "  </style>\n",
              "\n",
              "      <script>\n",
              "        const buttonEl =\n",
              "          document.querySelector('#df-36806388-ad78-468b-8909-316e2c132193 button.colab-df-convert');\n",
              "        buttonEl.style.display =\n",
              "          google.colab.kernel.accessAllowed ? 'block' : 'none';\n",
              "\n",
              "        async function convertToInteractive(key) {\n",
              "          const element = document.querySelector('#df-36806388-ad78-468b-8909-316e2c132193');\n",
              "          const dataTable =\n",
              "            await google.colab.kernel.invokeFunction('convertToInteractive',\n",
              "                                                     [key], {});\n",
              "          if (!dataTable) return;\n",
              "\n",
              "          const docLinkHtml = 'Like what you see? Visit the ' +\n",
              "            '<a target=\"_blank\" href=https://colab.research.google.com/notebooks/data_table.ipynb>data table notebook</a>'\n",
              "            + ' to learn more about interactive tables.';\n",
              "          element.innerHTML = '';\n",
              "          dataTable['output_type'] = 'display_data';\n",
              "          await google.colab.output.renderOutput(dataTable, element);\n",
              "          const docLink = document.createElement('div');\n",
              "          docLink.innerHTML = docLinkHtml;\n",
              "          element.appendChild(docLink);\n",
              "        }\n",
              "      </script>\n",
              "    </div>\n",
              "  </div>\n",
              "  "
            ]
          },
          "metadata": {},
          "execution_count": 45
        }
      ],
      "source": [
        "gas = pd.read_csv('/content/gas_prices.csv')\n",
        "gas.head()\n"
      ]
    },
    {
      "cell_type": "code",
      "source": [
        "\n",
        "plt.figure(figsize=(8,5))\n",
        "\n",
        "plt.title('Gas Prices over Time (in USD)', fontdict={'fontweight':'bold', 'fontsize': 18})\n",
        "\n",
        "plt.plot(gas.Year, gas.USA, 'b.-', label='United States')\n",
        "plt.plot(gas.Year, gas.Canada, 'r.-', label='Canada')\n",
        "plt.plot(gas.Year, gas['South Korea'], 'g.-', label='South Korea')\n",
        "plt.plot(gas.Year, gas.Australia, 'y.-', label='Australia')\n",
        "\n",
        "\n",
        "plt.xticks(gas.Year[::3].tolist()+[2011])\n",
        "\n",
        "plt.xlabel('Year')\n",
        "plt.ylabel('US Dollars')\n",
        "\n",
        "plt.legend()\n",
        "\n",
        "# plt.savefig('Gas_price_figure.png', dpi=300)\n",
        "\n",
        "plt.show()"
      ],
      "metadata": {
        "colab": {
          "base_uri": "https://localhost:8080/",
          "height": 354
        },
        "id": "8hJ6J6aHc7PY",
        "outputId": "695f01e0-e734-4edf-c09b-0bf22eae4a2f"
      },
      "execution_count": 50,
      "outputs": [
        {
          "output_type": "display_data",
          "data": {
            "text/plain": [
              "<Figure size 576x360 with 1 Axes>"
            ],
            "image/png": "[encoded data removed]"
          },
          "metadata": {
            "needs_background": "light"
          }
        }
      ]
    },
    {
      "cell_type": "code",
      "source": [
        "import numpy as np\n",
        "import matplotlib.pyplot as plt\n",
        "data = [[30, 25, 50, 20],\n",
        "[40, 23, 51, 17],\n",
        "[35, 22, 45, 19]]\n",
        "X = np.arange(4)\n",
        "fig = plt.figure()\n",
        "ax = fig.add_axes([0,0,1,1])\n",
        "ax.bar(X + 0.00, data[0], color = 'b', width = 0.25)\n",
        "ax.bar(X + 0.25, data[1], color = 'g', width = 0.25)\n",
        "ax.bar(X + 0.50, data[2], color = 'r', width = 0.25)"
      ],
      "metadata": {
        "id": "ftIEGt6Ne3c6",
        "colab": {
          "base_uri": "https://localhost:8080/",
          "height": 353
        },
        "outputId": "7922e95a-271e-44ab-a70f-08efe4adb8d5"
      },
      "execution_count": 61,
      "outputs": [
        {
          "output_type": "execute_result",
          "data": {
            "text/plain": [
              "<BarContainer object of 4 artists>"
            ]
          },
          "metadata": {},
          "execution_count": 61
        },
        {
          "output_type": "display_data",
          "data": {
            "text/plain": [
              "<Figure size 432x288 with 1 Axes>"
            ],
            "image/png": "[encoded data removed]"
          },
          "metadata": {
            "needs_background": "light"
          }
        }
      ]
    },
    {
      "cell_type": "code",
      "source": [],
      "metadata": {
        "id": "lGLCWTkC8Tum"
      },
      "execution_count": null,
      "outputs": []
    }
  ],
  "metadata": {
    "colab": {
      "provenance": []
    },
    "kernelspec": {
      "display_name": "Python 3",
      "language": "python",
      "name": "python3"
    },
    "language_info": {
      "codemirror_mode": {
        "name": "ipython",
        "version": 3
      },
      "file_extension": ".py",
      "mimetype": "text/x-python",
      "name": "python",
      "nbconvert_exporter": "python",
      "pygments_lexer": "ipython3",
      "version": "3.9.13"
    }
  },
  "nbformat": 4,
  "nbformat_minor": 0
}