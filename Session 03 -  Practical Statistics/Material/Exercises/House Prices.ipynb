{
 "cells": [
  {
   "cell_type": "code",
   "execution_count": 1,
   "id": "b09ce4b1",
   "metadata": {},
   "outputs": [],
   "source": [
    "import pandas as pd"
   ]
  },
  {
   "cell_type": "code",
   "execution_count": 2,
   "id": "8a2b4a65",
   "metadata": {},
   "outputs": [],
   "source": [
    "df = pd.read_csv(\"Mumbai.csv\")"
   ]
  },
  {
   "cell_type": "code",
   "execution_count": 3,
   "id": "448c191a",
   "metadata": {},
   "outputs": [
    {
     "data": {
      "text/html": [
       "<div>\n",
       "<style scoped>\n",
       "    .dataframe tbody tr th:only-of-type {\n",
       "        vertical-align: middle;\n",
       "    }\n",
       "\n",
       "    .dataframe tbody tr th {\n",
       "        vertical-align: top;\n",
       "    }\n",
       "\n",
       "    .dataframe thead th {\n",
       "        text-align: right;\n",
       "    }\n",
       "</style>\n",
       "<table border=\"1\" class=\"dataframe\">\n",
       "  <thead>\n",
       "    <tr style=\"text-align: right;\">\n",
       "      <th></th>\n",
       "      <th>Price</th>\n",
       "      <th>Area</th>\n",
       "      <th>Location</th>\n",
       "      <th>No. of Bedrooms</th>\n",
       "      <th>Resale</th>\n",
       "      <th>MaintenanceStaff</th>\n",
       "      <th>Gymnasium</th>\n",
       "      <th>SwimmingPool</th>\n",
       "      <th>LandscapedGardens</th>\n",
       "      <th>JoggingTrack</th>\n",
       "      <th>...</th>\n",
       "      <th>LiftAvailable</th>\n",
       "      <th>BED</th>\n",
       "      <th>VaastuCompliant</th>\n",
       "      <th>Microwave</th>\n",
       "      <th>GolfCourse</th>\n",
       "      <th>TV</th>\n",
       "      <th>DiningTable</th>\n",
       "      <th>Sofa</th>\n",
       "      <th>Wardrobe</th>\n",
       "      <th>Refrigerator</th>\n",
       "    </tr>\n",
       "  </thead>\n",
       "  <tbody>\n",
       "    <tr>\n",
       "      <th>0</th>\n",
       "      <td>4850000</td>\n",
       "      <td>720</td>\n",
       "      <td>Kharghar</td>\n",
       "      <td>1</td>\n",
       "      <td>1</td>\n",
       "      <td>1</td>\n",
       "      <td>0</td>\n",
       "      <td>0</td>\n",
       "      <td>0</td>\n",
       "      <td>0</td>\n",
       "      <td>...</td>\n",
       "      <td>1</td>\n",
       "      <td>0</td>\n",
       "      <td>1</td>\n",
       "      <td>0</td>\n",
       "      <td>0</td>\n",
       "      <td>0</td>\n",
       "      <td>0</td>\n",
       "      <td>0</td>\n",
       "      <td>0</td>\n",
       "      <td>0</td>\n",
       "    </tr>\n",
       "    <tr>\n",
       "      <th>1</th>\n",
       "      <td>4500000</td>\n",
       "      <td>600</td>\n",
       "      <td>Kharghar</td>\n",
       "      <td>1</td>\n",
       "      <td>1</td>\n",
       "      <td>1</td>\n",
       "      <td>1</td>\n",
       "      <td>1</td>\n",
       "      <td>0</td>\n",
       "      <td>1</td>\n",
       "      <td>...</td>\n",
       "      <td>1</td>\n",
       "      <td>0</td>\n",
       "      <td>1</td>\n",
       "      <td>0</td>\n",
       "      <td>0</td>\n",
       "      <td>0</td>\n",
       "      <td>0</td>\n",
       "      <td>0</td>\n",
       "      <td>0</td>\n",
       "      <td>0</td>\n",
       "    </tr>\n",
       "    <tr>\n",
       "      <th>2</th>\n",
       "      <td>6700000</td>\n",
       "      <td>650</td>\n",
       "      <td>Kharghar</td>\n",
       "      <td>1</td>\n",
       "      <td>1</td>\n",
       "      <td>1</td>\n",
       "      <td>1</td>\n",
       "      <td>1</td>\n",
       "      <td>0</td>\n",
       "      <td>1</td>\n",
       "      <td>...</td>\n",
       "      <td>1</td>\n",
       "      <td>0</td>\n",
       "      <td>1</td>\n",
       "      <td>0</td>\n",
       "      <td>0</td>\n",
       "      <td>0</td>\n",
       "      <td>0</td>\n",
       "      <td>0</td>\n",
       "      <td>0</td>\n",
       "      <td>0</td>\n",
       "    </tr>\n",
       "    <tr>\n",
       "      <th>3</th>\n",
       "      <td>4500000</td>\n",
       "      <td>650</td>\n",
       "      <td>Kharghar</td>\n",
       "      <td>1</td>\n",
       "      <td>1</td>\n",
       "      <td>1</td>\n",
       "      <td>0</td>\n",
       "      <td>0</td>\n",
       "      <td>1</td>\n",
       "      <td>0</td>\n",
       "      <td>...</td>\n",
       "      <td>1</td>\n",
       "      <td>1</td>\n",
       "      <td>1</td>\n",
       "      <td>0</td>\n",
       "      <td>0</td>\n",
       "      <td>0</td>\n",
       "      <td>0</td>\n",
       "      <td>0</td>\n",
       "      <td>1</td>\n",
       "      <td>0</td>\n",
       "    </tr>\n",
       "    <tr>\n",
       "      <th>4</th>\n",
       "      <td>5000000</td>\n",
       "      <td>665</td>\n",
       "      <td>Kharghar</td>\n",
       "      <td>1</td>\n",
       "      <td>1</td>\n",
       "      <td>1</td>\n",
       "      <td>0</td>\n",
       "      <td>0</td>\n",
       "      <td>1</td>\n",
       "      <td>0</td>\n",
       "      <td>...</td>\n",
       "      <td>1</td>\n",
       "      <td>0</td>\n",
       "      <td>1</td>\n",
       "      <td>0</td>\n",
       "      <td>0</td>\n",
       "      <td>0</td>\n",
       "      <td>0</td>\n",
       "      <td>0</td>\n",
       "      <td>0</td>\n",
       "      <td>0</td>\n",
       "    </tr>\n",
       "  </tbody>\n",
       "</table>\n",
       "<p>5 rows × 40 columns</p>\n",
       "</div>"
      ],
      "text/plain": [
       "     Price  Area  Location  No. of Bedrooms  Resale  MaintenanceStaff  \\\n",
       "0  4850000   720  Kharghar                1       1                 1   \n",
       "1  4500000   600  Kharghar                1       1                 1   \n",
       "2  6700000   650  Kharghar                1       1                 1   \n",
       "3  4500000   650  Kharghar                1       1                 1   \n",
       "4  5000000   665  Kharghar                1       1                 1   \n",
       "\n",
       "   Gymnasium  SwimmingPool  LandscapedGardens  JoggingTrack  ...  \\\n",
       "0          0             0                  0             0  ...   \n",
       "1          1             1                  0             1  ...   \n",
       "2          1             1                  0             1  ...   \n",
       "3          0             0                  1             0  ...   \n",
       "4          0             0                  1             0  ...   \n",
       "\n",
       "   LiftAvailable  BED  VaastuCompliant  Microwave  GolfCourse  TV  \\\n",
       "0              1    0                1          0           0   0   \n",
       "1              1    0                1          0           0   0   \n",
       "2              1    0                1          0           0   0   \n",
       "3              1    1                1          0           0   0   \n",
       "4              1    0                1          0           0   0   \n",
       "\n",
       "   DiningTable  Sofa  Wardrobe  Refrigerator  \n",
       "0            0     0         0             0  \n",
       "1            0     0         0             0  \n",
       "2            0     0         0             0  \n",
       "3            0     0         1             0  \n",
       "4            0     0         0             0  \n",
       "\n",
       "[5 rows x 40 columns]"
      ]
     },
     "execution_count": 3,
     "metadata": {},
     "output_type": "execute_result"
    }
   ],
   "source": [
    "df.head()"
   ]
  },
  {
   "cell_type": "code",
   "execution_count": 5,
   "id": "98b9e657",
   "metadata": {},
   "outputs": [
    {
     "data": {
      "text/plain": [
       "(7719, 40)"
      ]
     },
     "execution_count": 5,
     "metadata": {},
     "output_type": "execute_result"
    }
   ],
   "source": [
    "df.shape"
   ]
  },
  {
   "cell_type": "code",
   "execution_count": 6,
   "id": "583ed950",
   "metadata": {},
   "outputs": [
    {
     "data": {
      "text/html": [
       "<div>\n",
       "<style scoped>\n",
       "    .dataframe tbody tr th:only-of-type {\n",
       "        vertical-align: middle;\n",
       "    }\n",
       "\n",
       "    .dataframe tbody tr th {\n",
       "        vertical-align: top;\n",
       "    }\n",
       "\n",
       "    .dataframe thead th {\n",
       "        text-align: right;\n",
       "    }\n",
       "</style>\n",
       "<table border=\"1\" class=\"dataframe\">\n",
       "  <thead>\n",
       "    <tr style=\"text-align: right;\">\n",
       "      <th></th>\n",
       "      <th>Price</th>\n",
       "      <th>Area</th>\n",
       "      <th>No. of Bedrooms</th>\n",
       "      <th>Resale</th>\n",
       "      <th>MaintenanceStaff</th>\n",
       "      <th>Gymnasium</th>\n",
       "      <th>SwimmingPool</th>\n",
       "      <th>LandscapedGardens</th>\n",
       "      <th>JoggingTrack</th>\n",
       "      <th>RainWaterHarvesting</th>\n",
       "      <th>...</th>\n",
       "      <th>LiftAvailable</th>\n",
       "      <th>BED</th>\n",
       "      <th>VaastuCompliant</th>\n",
       "      <th>Microwave</th>\n",
       "      <th>GolfCourse</th>\n",
       "      <th>TV</th>\n",
       "      <th>DiningTable</th>\n",
       "      <th>Sofa</th>\n",
       "      <th>Wardrobe</th>\n",
       "      <th>Refrigerator</th>\n",
       "    </tr>\n",
       "  </thead>\n",
       "  <tbody>\n",
       "    <tr>\n",
       "      <th>count</th>\n",
       "      <td>7.719000e+03</td>\n",
       "      <td>7719.000000</td>\n",
       "      <td>7719.000000</td>\n",
       "      <td>7719.000000</td>\n",
       "      <td>7719.000000</td>\n",
       "      <td>7719.000000</td>\n",
       "      <td>7719.000000</td>\n",
       "      <td>7719.000000</td>\n",
       "      <td>7719.000000</td>\n",
       "      <td>7719.000000</td>\n",
       "      <td>...</td>\n",
       "      <td>7719.000000</td>\n",
       "      <td>7719.000000</td>\n",
       "      <td>7719.000000</td>\n",
       "      <td>7719.000000</td>\n",
       "      <td>7719.000000</td>\n",
       "      <td>7719.000000</td>\n",
       "      <td>7719.000000</td>\n",
       "      <td>7719.000000</td>\n",
       "      <td>7719.000000</td>\n",
       "      <td>7719.000000</td>\n",
       "    </tr>\n",
       "    <tr>\n",
       "      <th>mean</th>\n",
       "      <td>1.506165e+07</td>\n",
       "      <td>998.409250</td>\n",
       "      <td>1.913331</td>\n",
       "      <td>0.647105</td>\n",
       "      <td>7.498899</td>\n",
       "      <td>7.473896</td>\n",
       "      <td>7.437881</td>\n",
       "      <td>7.441638</td>\n",
       "      <td>7.439435</td>\n",
       "      <td>7.477005</td>\n",
       "      <td>...</td>\n",
       "      <td>7.518331</td>\n",
       "      <td>7.417930</td>\n",
       "      <td>7.454722</td>\n",
       "      <td>7.372069</td>\n",
       "      <td>7.379712</td>\n",
       "      <td>7.379065</td>\n",
       "      <td>7.373624</td>\n",
       "      <td>7.374530</td>\n",
       "      <td>7.383988</td>\n",
       "      <td>7.374789</td>\n",
       "    </tr>\n",
       "    <tr>\n",
       "      <th>std</th>\n",
       "      <td>2.052100e+07</td>\n",
       "      <td>550.967809</td>\n",
       "      <td>0.855376</td>\n",
       "      <td>0.477901</td>\n",
       "      <td>3.197923</td>\n",
       "      <td>3.252095</td>\n",
       "      <td>3.328245</td>\n",
       "      <td>3.320401</td>\n",
       "      <td>3.325002</td>\n",
       "      <td>3.245418</td>\n",
       "      <td>...</td>\n",
       "      <td>3.155041</td>\n",
       "      <td>3.369523</td>\n",
       "      <td>3.292904</td>\n",
       "      <td>3.462108</td>\n",
       "      <td>3.446892</td>\n",
       "      <td>3.448185</td>\n",
       "      <td>3.459020</td>\n",
       "      <td>3.457217</td>\n",
       "      <td>3.438345</td>\n",
       "      <td>3.456702</td>\n",
       "    </tr>\n",
       "    <tr>\n",
       "      <th>min</th>\n",
       "      <td>2.000000e+06</td>\n",
       "      <td>200.000000</td>\n",
       "      <td>1.000000</td>\n",
       "      <td>0.000000</td>\n",
       "      <td>0.000000</td>\n",
       "      <td>0.000000</td>\n",
       "      <td>0.000000</td>\n",
       "      <td>0.000000</td>\n",
       "      <td>0.000000</td>\n",
       "      <td>0.000000</td>\n",
       "      <td>...</td>\n",
       "      <td>0.000000</td>\n",
       "      <td>0.000000</td>\n",
       "      <td>0.000000</td>\n",
       "      <td>0.000000</td>\n",
       "      <td>0.000000</td>\n",
       "      <td>0.000000</td>\n",
       "      <td>0.000000</td>\n",
       "      <td>0.000000</td>\n",
       "      <td>0.000000</td>\n",
       "      <td>0.000000</td>\n",
       "    </tr>\n",
       "    <tr>\n",
       "      <th>25%</th>\n",
       "      <td>5.300000e+06</td>\n",
       "      <td>650.000000</td>\n",
       "      <td>1.000000</td>\n",
       "      <td>0.000000</td>\n",
       "      <td>9.000000</td>\n",
       "      <td>9.000000</td>\n",
       "      <td>9.000000</td>\n",
       "      <td>9.000000</td>\n",
       "      <td>9.000000</td>\n",
       "      <td>9.000000</td>\n",
       "      <td>...</td>\n",
       "      <td>9.000000</td>\n",
       "      <td>9.000000</td>\n",
       "      <td>9.000000</td>\n",
       "      <td>9.000000</td>\n",
       "      <td>9.000000</td>\n",
       "      <td>9.000000</td>\n",
       "      <td>9.000000</td>\n",
       "      <td>9.000000</td>\n",
       "      <td>9.000000</td>\n",
       "      <td>9.000000</td>\n",
       "    </tr>\n",
       "    <tr>\n",
       "      <th>50%</th>\n",
       "      <td>9.500000e+06</td>\n",
       "      <td>900.000000</td>\n",
       "      <td>2.000000</td>\n",
       "      <td>1.000000</td>\n",
       "      <td>9.000000</td>\n",
       "      <td>9.000000</td>\n",
       "      <td>9.000000</td>\n",
       "      <td>9.000000</td>\n",
       "      <td>9.000000</td>\n",
       "      <td>9.000000</td>\n",
       "      <td>...</td>\n",
       "      <td>9.000000</td>\n",
       "      <td>9.000000</td>\n",
       "      <td>9.000000</td>\n",
       "      <td>9.000000</td>\n",
       "      <td>9.000000</td>\n",
       "      <td>9.000000</td>\n",
       "      <td>9.000000</td>\n",
       "      <td>9.000000</td>\n",
       "      <td>9.000000</td>\n",
       "      <td>9.000000</td>\n",
       "    </tr>\n",
       "    <tr>\n",
       "      <th>75%</th>\n",
       "      <td>1.700000e+07</td>\n",
       "      <td>1177.000000</td>\n",
       "      <td>2.000000</td>\n",
       "      <td>1.000000</td>\n",
       "      <td>9.000000</td>\n",
       "      <td>9.000000</td>\n",
       "      <td>9.000000</td>\n",
       "      <td>9.000000</td>\n",
       "      <td>9.000000</td>\n",
       "      <td>9.000000</td>\n",
       "      <td>...</td>\n",
       "      <td>9.000000</td>\n",
       "      <td>9.000000</td>\n",
       "      <td>9.000000</td>\n",
       "      <td>9.000000</td>\n",
       "      <td>9.000000</td>\n",
       "      <td>9.000000</td>\n",
       "      <td>9.000000</td>\n",
       "      <td>9.000000</td>\n",
       "      <td>9.000000</td>\n",
       "      <td>9.000000</td>\n",
       "    </tr>\n",
       "    <tr>\n",
       "      <th>max</th>\n",
       "      <td>4.200000e+08</td>\n",
       "      <td>8511.000000</td>\n",
       "      <td>7.000000</td>\n",
       "      <td>1.000000</td>\n",
       "      <td>9.000000</td>\n",
       "      <td>9.000000</td>\n",
       "      <td>9.000000</td>\n",
       "      <td>9.000000</td>\n",
       "      <td>9.000000</td>\n",
       "      <td>9.000000</td>\n",
       "      <td>...</td>\n",
       "      <td>9.000000</td>\n",
       "      <td>9.000000</td>\n",
       "      <td>9.000000</td>\n",
       "      <td>9.000000</td>\n",
       "      <td>9.000000</td>\n",
       "      <td>9.000000</td>\n",
       "      <td>9.000000</td>\n",
       "      <td>9.000000</td>\n",
       "      <td>9.000000</td>\n",
       "      <td>9.000000</td>\n",
       "    </tr>\n",
       "  </tbody>\n",
       "</table>\n",
       "<p>8 rows × 39 columns</p>\n",
       "</div>"
      ],
      "text/plain": [
       "              Price         Area  No. of Bedrooms       Resale  \\\n",
       "count  7.719000e+03  7719.000000      7719.000000  7719.000000   \n",
       "mean   1.506165e+07   998.409250         1.913331     0.647105   \n",
       "std    2.052100e+07   550.967809         0.855376     0.477901   \n",
       "min    2.000000e+06   200.000000         1.000000     0.000000   \n",
       "25%    5.300000e+06   650.000000         1.000000     0.000000   \n",
       "50%    9.500000e+06   900.000000         2.000000     1.000000   \n",
       "75%    1.700000e+07  1177.000000         2.000000     1.000000   \n",
       "max    4.200000e+08  8511.000000         7.000000     1.000000   \n",
       "\n",
       "       MaintenanceStaff    Gymnasium  SwimmingPool  LandscapedGardens  \\\n",
       "count       7719.000000  7719.000000   7719.000000        7719.000000   \n",
       "mean           7.498899     7.473896      7.437881           7.441638   \n",
       "std            3.197923     3.252095      3.328245           3.320401   \n",
       "min            0.000000     0.000000      0.000000           0.000000   \n",
       "25%            9.000000     9.000000      9.000000           9.000000   \n",
       "50%            9.000000     9.000000      9.000000           9.000000   \n",
       "75%            9.000000     9.000000      9.000000           9.000000   \n",
       "max            9.000000     9.000000      9.000000           9.000000   \n",
       "\n",
       "       JoggingTrack  RainWaterHarvesting  ...  LiftAvailable          BED  \\\n",
       "count   7719.000000          7719.000000  ...    7719.000000  7719.000000   \n",
       "mean       7.439435             7.477005  ...       7.518331     7.417930   \n",
       "std        3.325002             3.245418  ...       3.155041     3.369523   \n",
       "min        0.000000             0.000000  ...       0.000000     0.000000   \n",
       "25%        9.000000             9.000000  ...       9.000000     9.000000   \n",
       "50%        9.000000             9.000000  ...       9.000000     9.000000   \n",
       "75%        9.000000             9.000000  ...       9.000000     9.000000   \n",
       "max        9.000000             9.000000  ...       9.000000     9.000000   \n",
       "\n",
       "       VaastuCompliant    Microwave   GolfCourse           TV  DiningTable  \\\n",
       "count      7719.000000  7719.000000  7719.000000  7719.000000  7719.000000   \n",
       "mean          7.454722     7.372069     7.379712     7.379065     7.373624   \n",
       "std           3.292904     3.462108     3.446892     3.448185     3.459020   \n",
       "min           0.000000     0.000000     0.000000     0.000000     0.000000   \n",
       "25%           9.000000     9.000000     9.000000     9.000000     9.000000   \n",
       "50%           9.000000     9.000000     9.000000     9.000000     9.000000   \n",
       "75%           9.000000     9.000000     9.000000     9.000000     9.000000   \n",
       "max           9.000000     9.000000     9.000000     9.000000     9.000000   \n",
       "\n",
       "              Sofa     Wardrobe  Refrigerator  \n",
       "count  7719.000000  7719.000000   7719.000000  \n",
       "mean      7.374530     7.383988      7.374789  \n",
       "std       3.457217     3.438345      3.456702  \n",
       "min       0.000000     0.000000      0.000000  \n",
       "25%       9.000000     9.000000      9.000000  \n",
       "50%       9.000000     9.000000      9.000000  \n",
       "75%       9.000000     9.000000      9.000000  \n",
       "max       9.000000     9.000000      9.000000  \n",
       "\n",
       "[8 rows x 39 columns]"
      ]
     },
     "execution_count": 6,
     "metadata": {},
     "output_type": "execute_result"
    }
   ],
   "source": [
    "df.describe()"
   ]
  },
  {
   "cell_type": "code",
   "execution_count": 7,
   "id": "d930dbd8",
   "metadata": {},
   "outputs": [
    {
     "name": "stdout",
     "output_type": "stream",
     "text": [
      "<class 'pandas.core.frame.DataFrame'>\n",
      "RangeIndex: 7719 entries, 0 to 7718\n",
      "Data columns (total 40 columns):\n",
      " #   Column               Non-Null Count  Dtype \n",
      "---  ------               --------------  ----- \n",
      " 0   Price                7719 non-null   int64 \n",
      " 1   Area                 7719 non-null   int64 \n",
      " 2   Location             7719 non-null   object\n",
      " 3   No. of Bedrooms      7719 non-null   int64 \n",
      " 4   Resale               7719 non-null   int64 \n",
      " 5   MaintenanceStaff     7719 non-null   int64 \n",
      " 6   Gymnasium            7719 non-null   int64 \n",
      " 7   SwimmingPool         7719 non-null   int64 \n",
      " 8   LandscapedGardens    7719 non-null   int64 \n",
      " 9   JoggingTrack         7719 non-null   int64 \n",
      " 10  RainWaterHarvesting  7719 non-null   int64 \n",
      " 11  IndoorGames          7719 non-null   int64 \n",
      " 12  ShoppingMall         7719 non-null   int64 \n",
      " 13  Intercom             7719 non-null   int64 \n",
      " 14  SportsFacility       7719 non-null   int64 \n",
      " 15  ATM                  7719 non-null   int64 \n",
      " 16  ClubHouse            7719 non-null   int64 \n",
      " 17  School               7719 non-null   int64 \n",
      " 18  24X7Security         7719 non-null   int64 \n",
      " 19  PowerBackup          7719 non-null   int64 \n",
      " 20  CarParking           7719 non-null   int64 \n",
      " 21  StaffQuarter         7719 non-null   int64 \n",
      " 22  Cafeteria            7719 non-null   int64 \n",
      " 23  MultipurposeRoom     7719 non-null   int64 \n",
      " 24  Hospital             7719 non-null   int64 \n",
      " 25  WashingMachine       7719 non-null   int64 \n",
      " 26  Gasconnection        7719 non-null   int64 \n",
      " 27  AC                   7719 non-null   int64 \n",
      " 28  Wifi                 7719 non-null   int64 \n",
      " 29  Children'splayarea   7719 non-null   int64 \n",
      " 30  LiftAvailable        7719 non-null   int64 \n",
      " 31  BED                  7719 non-null   int64 \n",
      " 32  VaastuCompliant      7719 non-null   int64 \n",
      " 33  Microwave            7719 non-null   int64 \n",
      " 34  GolfCourse           7719 non-null   int64 \n",
      " 35  TV                   7719 non-null   int64 \n",
      " 36  DiningTable          7719 non-null   int64 \n",
      " 37  Sofa                 7719 non-null   int64 \n",
      " 38  Wardrobe             7719 non-null   int64 \n",
      " 39  Refrigerator         7719 non-null   int64 \n",
      "dtypes: int64(39), object(1)\n",
      "memory usage: 2.4+ MB\n"
     ]
    }
   ],
   "source": [
    "df.info()"
   ]
  },
  {
   "cell_type": "code",
   "execution_count": 9,
   "id": "804df64a",
   "metadata": {},
   "outputs": [
    {
     "data": {
      "text/plain": [
       "Price                  0\n",
       "Area                   0\n",
       "Location               0\n",
       "No. of Bedrooms        0\n",
       "Resale                 0\n",
       "MaintenanceStaff       0\n",
       "Gymnasium              0\n",
       "SwimmingPool           0\n",
       "LandscapedGardens      0\n",
       "JoggingTrack           0\n",
       "RainWaterHarvesting    0\n",
       "IndoorGames            0\n",
       "ShoppingMall           0\n",
       "Intercom               0\n",
       "SportsFacility         0\n",
       "ATM                    0\n",
       "ClubHouse              0\n",
       "School                 0\n",
       "24X7Security           0\n",
       "PowerBackup            0\n",
       "CarParking             0\n",
       "StaffQuarter           0\n",
       "Cafeteria              0\n",
       "MultipurposeRoom       0\n",
       "Hospital               0\n",
       "WashingMachine         0\n",
       "Gasconnection          0\n",
       "AC                     0\n",
       "Wifi                   0\n",
       "Children'splayarea     0\n",
       "LiftAvailable          0\n",
       "BED                    0\n",
       "VaastuCompliant        0\n",
       "Microwave              0\n",
       "GolfCourse             0\n",
       "TV                     0\n",
       "DiningTable            0\n",
       "Sofa                   0\n",
       "Wardrobe               0\n",
       "Refrigerator           0\n",
       "dtype: int64"
      ]
     },
     "execution_count": 9,
     "metadata": {},
     "output_type": "execute_result"
    }
   ],
   "source": [
    "df.isnull().sum()"
   ]
  },
  {
   "cell_type": "code",
   "execution_count": 18,
   "id": "490dba3d",
   "metadata": {},
   "outputs": [
    {
     "data": {
      "text/plain": [
       "Location\n",
       "MG Road              420000000.0\n",
       "Agripada             260000000.0\n",
       "juhu tara            180000000.0\n",
       "Hanuman Nagar        155000000.0\n",
       "worli sea face       150000000.0\n",
       "                        ...     \n",
       "Gundavali Gaothan      2164000.0\n",
       "Sector-26 Taloja       2100000.0\n",
       "ulhasnagar 4           2050000.0\n",
       "Asangaon               2035000.0\n",
       "Vasind                 2000000.0\n",
       "Name: Price, Length: 413, dtype: float64"
      ]
     },
     "execution_count": 18,
     "metadata": {},
     "output_type": "execute_result"
    }
   ],
   "source": [
    "mean_price_per_location = df.groupby(\"Location\")[\"Price\"].mean().sort_values(ascending=False).round()\n",
    "mean_price_per_location"
   ]
  },
  {
   "cell_type": "markdown",
   "id": "ff5bee44",
   "metadata": {},
   "source": [
    "## we see above that the houses in MG Road have a very expensive mean price than all locations"
   ]
  },
  {
   "cell_type": "code",
   "execution_count": 21,
   "id": "c8f7cd37",
   "metadata": {},
   "outputs": [
    {
     "data": {
      "text/plain": [
       "No. of Bedrooms\n",
       "2    3206\n",
       "1    2763\n",
       "3    1472\n",
       "4     224\n",
       "5      44\n",
       "6       8\n",
       "7       2\n",
       "Name: No. of Bedrooms, dtype: int64"
      ]
     },
     "execution_count": 21,
     "metadata": {},
     "output_type": "execute_result"
    }
   ],
   "source": [
    "num_of_rooms = df.groupby('No. of Bedrooms')['No. of Bedrooms'].agg('count').sort_values(ascending=False)\n",
    "num_of_rooms"
   ]
  },
  {
   "cell_type": "code",
   "execution_count": 23,
   "id": "c19514e2",
   "metadata": {},
   "outputs": [
    {
     "data": {
      "image/png": "[encoded data removed]",
      "text/plain": [
       "<Figure size 432x288 with 1 Axes>"
      ]
     },
     "metadata": {
      "needs_background": "light"
     },
     "output_type": "display_data"
    }
   ],
   "source": [
    "num_of_rooms.plot(\n",
    "    kind=\"bar\"\n",
    ");"
   ]
  },
  {
   "cell_type": "markdown",
   "id": "e2691870",
   "metadata": {},
   "source": [
    "## we see that is the most existed houses have two rooms"
   ]
  },
  {
   "cell_type": "code",
   "execution_count": 31,
   "id": "6311364f",
   "metadata": {},
   "outputs": [
    {
     "data": {
      "text/plain": [
       "<AxesSubplot:>"
      ]
     },
     "execution_count": 31,
     "metadata": {},
     "output_type": "execute_result"
    },
    {
     "data": {
      "image/png": "[encoded data removed]",
      "text/plain": [
       "<Figure size 432x288 with 1 Axes>"
      ]
     },
     "metadata": {
      "needs_background": "light"
     },
     "output_type": "display_data"
    }
   ],
   "source": [
    "df[\"Price\"].plot(kind=\"box\")"
   ]
  },
  {
   "cell_type": "markdown",
   "id": "4ecbe723",
   "metadata": {},
   "source": [
    "## There is so so so so many \"Price\" observations has been classified as outliers"
   ]
  },
  {
   "cell_type": "code",
   "execution_count": 32,
   "id": "25351238",
   "metadata": {},
   "outputs": [
    {
     "name": "stdout",
     "output_type": "stream",
     "text": [
      "<class 'pandas.core.frame.DataFrame'>\n",
      "Int64Index: 6196 entries, 0 to 7716\n",
      "Data columns (total 40 columns):\n",
      " #   Column               Non-Null Count  Dtype \n",
      "---  ------               --------------  ----- \n",
      " 0   Price                6196 non-null   int64 \n",
      " 1   Area                 6196 non-null   int64 \n",
      " 2   Location             6196 non-null   object\n",
      " 3   No. of Bedrooms      6196 non-null   int64 \n",
      " 4   Resale               6196 non-null   int64 \n",
      " 5   MaintenanceStaff     6196 non-null   int64 \n",
      " 6   Gymnasium            6196 non-null   int64 \n",
      " 7   SwimmingPool         6196 non-null   int64 \n",
      " 8   LandscapedGardens    6196 non-null   int64 \n",
      " 9   JoggingTrack         6196 non-null   int64 \n",
      " 10  RainWaterHarvesting  6196 non-null   int64 \n",
      " 11  IndoorGames          6196 non-null   int64 \n",
      " 12  ShoppingMall         6196 non-null   int64 \n",
      " 13  Intercom             6196 non-null   int64 \n",
      " 14  SportsFacility       6196 non-null   int64 \n",
      " 15  ATM                  6196 non-null   int64 \n",
      " 16  ClubHouse            6196 non-null   int64 \n",
      " 17  School               6196 non-null   int64 \n",
      " 18  24X7Security         6196 non-null   int64 \n",
      " 19  PowerBackup          6196 non-null   int64 \n",
      " 20  CarParking           6196 non-null   int64 \n",
      " 21  StaffQuarter         6196 non-null   int64 \n",
      " 22  Cafeteria            6196 non-null   int64 \n",
      " 23  MultipurposeRoom     6196 non-null   int64 \n",
      " 24  Hospital             6196 non-null   int64 \n",
      " 25  WashingMachine       6196 non-null   int64 \n",
      " 26  Gasconnection        6196 non-null   int64 \n",
      " 27  AC                   6196 non-null   int64 \n",
      " 28  Wifi                 6196 non-null   int64 \n",
      " 29  Children'splayarea   6196 non-null   int64 \n",
      " 30  LiftAvailable        6196 non-null   int64 \n",
      " 31  BED                  6196 non-null   int64 \n",
      " 32  VaastuCompliant      6196 non-null   int64 \n",
      " 33  Microwave            6196 non-null   int64 \n",
      " 34  GolfCourse           6196 non-null   int64 \n",
      " 35  TV                   6196 non-null   int64 \n",
      " 36  DiningTable          6196 non-null   int64 \n",
      " 37  Sofa                 6196 non-null   int64 \n",
      " 38  Wardrobe             6196 non-null   int64 \n",
      " 39  Refrigerator         6196 non-null   int64 \n",
      "dtypes: int64(39), object(1)\n",
      "memory usage: 1.9+ MB\n"
     ]
    }
   ],
   "source": [
    "low, high = df[\"Price\"].quantile([0.1, 0.9])\n",
    "df = df[df[\"Price\"].between(low, high)]\n",
    "df.info()"
   ]
  },
  {
   "cell_type": "code",
   "execution_count": 33,
   "id": "e5697d89",
   "metadata": {},
   "outputs": [
    {
     "data": {
      "text/plain": [
       "<AxesSubplot:>"
      ]
     },
     "execution_count": 33,
     "metadata": {},
     "output_type": "execute_result"
    },
    {
     "data": {
      "image/png": "[encoded data removed]",
      "text/plain": [
       "<Figure size 432x288 with 1 Axes>"
      ]
     },
     "metadata": {
      "needs_background": "light"
     },
     "output_type": "display_data"
    }
   ],
   "source": [
    "df[\"Price\"].plot(kind=\"box\")"
   ]
  },
  {
   "cell_type": "markdown",
   "id": "34d4c9ee",
   "metadata": {},
   "source": [
    "## we cleaned Price column from outliers"
   ]
  },
  {
   "cell_type": "code",
   "execution_count": 36,
   "id": "3d4b3c50",
   "metadata": {},
   "outputs": [
    {
     "data": {
      "text/plain": [
       "<AxesSubplot:>"
      ]
     },
     "execution_count": 36,
     "metadata": {},
     "output_type": "execute_result"
    },
    {
     "data": {
      "image/png": "[encoded data removed]",
      "text/plain": [
       "<Figure size 432x288 with 1 Axes>"
      ]
     },
     "metadata": {
      "needs_background": "light"
     },
     "output_type": "display_data"
    }
   ],
   "source": [
    "df[\"Area\"].plot(kind=\"box\")"
   ]
  },
  {
   "cell_type": "code",
   "execution_count": 37,
   "id": "4a4acc81",
   "metadata": {},
   "outputs": [
    {
     "name": "stdout",
     "output_type": "stream",
     "text": [
      "<class 'pandas.core.frame.DataFrame'>\n",
      "Int64Index: 5008 entries, 0 to 7716\n",
      "Data columns (total 40 columns):\n",
      " #   Column               Non-Null Count  Dtype \n",
      "---  ------               --------------  ----- \n",
      " 0   Price                5008 non-null   int64 \n",
      " 1   Area                 5008 non-null   int64 \n",
      " 2   Location             5008 non-null   object\n",
      " 3   No. of Bedrooms      5008 non-null   int64 \n",
      " 4   Resale               5008 non-null   int64 \n",
      " 5   MaintenanceStaff     5008 non-null   int64 \n",
      " 6   Gymnasium            5008 non-null   int64 \n",
      " 7   SwimmingPool         5008 non-null   int64 \n",
      " 8   LandscapedGardens    5008 non-null   int64 \n",
      " 9   JoggingTrack         5008 non-null   int64 \n",
      " 10  RainWaterHarvesting  5008 non-null   int64 \n",
      " 11  IndoorGames          5008 non-null   int64 \n",
      " 12  ShoppingMall         5008 non-null   int64 \n",
      " 13  Intercom             5008 non-null   int64 \n",
      " 14  SportsFacility       5008 non-null   int64 \n",
      " 15  ATM                  5008 non-null   int64 \n",
      " 16  ClubHouse            5008 non-null   int64 \n",
      " 17  School               5008 non-null   int64 \n",
      " 18  24X7Security         5008 non-null   int64 \n",
      " 19  PowerBackup          5008 non-null   int64 \n",
      " 20  CarParking           5008 non-null   int64 \n",
      " 21  StaffQuarter         5008 non-null   int64 \n",
      " 22  Cafeteria            5008 non-null   int64 \n",
      " 23  MultipurposeRoom     5008 non-null   int64 \n",
      " 24  Hospital             5008 non-null   int64 \n",
      " 25  WashingMachine       5008 non-null   int64 \n",
      " 26  Gasconnection        5008 non-null   int64 \n",
      " 27  AC                   5008 non-null   int64 \n",
      " 28  Wifi                 5008 non-null   int64 \n",
      " 29  Children'splayarea   5008 non-null   int64 \n",
      " 30  LiftAvailable        5008 non-null   int64 \n",
      " 31  BED                  5008 non-null   int64 \n",
      " 32  VaastuCompliant      5008 non-null   int64 \n",
      " 33  Microwave            5008 non-null   int64 \n",
      " 34  GolfCourse           5008 non-null   int64 \n",
      " 35  TV                   5008 non-null   int64 \n",
      " 36  DiningTable          5008 non-null   int64 \n",
      " 37  Sofa                 5008 non-null   int64 \n",
      " 38  Wardrobe             5008 non-null   int64 \n",
      " 39  Refrigerator         5008 non-null   int64 \n",
      "dtypes: int64(39), object(1)\n",
      "memory usage: 1.6+ MB\n"
     ]
    }
   ],
   "source": [
    "low, high = df[\"Area\"].quantile([0.1, 0.9])\n",
    "df = df[df[\"Area\"].between(low, high)]\n",
    "df.info()"
   ]
  },
  {
   "cell_type": "code",
   "execution_count": 40,
   "id": "34a36415",
   "metadata": {},
   "outputs": [
    {
     "data": {
      "text/plain": [
       "<AxesSubplot:>"
      ]
     },
     "execution_count": 40,
     "metadata": {},
     "output_type": "execute_result"
    },
    {
     "data": {
      "image/png": "[encoded data removed]",
      "text/plain": [
       "<Figure size 432x288 with 1 Axes>"
      ]
     },
     "metadata": {
      "needs_background": "light"
     },
     "output_type": "display_data"
    }
   ],
   "source": [
    "df[\"Area\"].plot(kind=\"box\")"
   ]
  },
  {
   "cell_type": "markdown",
   "id": "1eb95521",
   "metadata": {},
   "source": [
    "## we cleaned Area column from outliers\n",
    "### we can move forward to other columns to remove outlires to make our data mor cleaned"
   ]
  },
  {
   "cell_type": "code",
   "execution_count": 38,
   "id": "3f3e5a37",
   "metadata": {},
   "outputs": [
    {
     "data": {
      "image/png": "[encoded data removed]",
      "text/plain": [
       "<Figure size 432x288 with 1 Axes>"
      ]
     },
     "metadata": {
      "needs_background": "light"
     },
     "output_type": "display_data"
    }
   ],
   "source": [
    "df.plot(\n",
    "    kind=\"scatter\",\n",
    "    x=\"Area\",\n",
    "    y=\"Price\"\n",
    ");"
   ]
  },
  {
   "cell_type": "code",
   "execution_count": 48,
   "id": "1f3ac1b8",
   "metadata": {},
   "outputs": [
    {
     "data": {
      "text/plain": [
       "[(0.9999999999999999, 'Price'),\n",
       " (0.18346675943436636, 'Area'),\n",
       " (0.20916049702929299, 'No. of Bedrooms'),\n",
       " (-0.07984694141946784, 'Resale'),\n",
       " (0.03593887185422585, 'MaintenanceStaff'),\n",
       " (0.03895616334723601, 'Gymnasium'),\n",
       " (0.04120426113118003, 'SwimmingPool'),\n",
       " (0.03861994986335919, 'LandscapedGardens'),\n",
       " (0.03865621604080378, 'JoggingTrack'),\n",
       " (0.04307595275514172, 'RainWaterHarvesting'),\n",
       " (0.04108637414617715, 'IndoorGames'),\n",
       " (0.04055952928982537, 'ShoppingMall'),\n",
       " (0.038132968669277865, 'Intercom'),\n",
       " (0.040151609442276394, 'SportsFacility'),\n",
       " (0.04006104529536384, 'ATM'),\n",
       " (0.039797973544850734, 'ClubHouse'),\n",
       " (0.04069988952629617, 'School'),\n",
       " (0.03891174819124446, '24X7Security'),\n",
       " (0.040066506270095975, 'PowerBackup'),\n",
       " (0.03917592084068505, 'CarParking'),\n",
       " (0.03816081094018274, 'StaffQuarter'),\n",
       " (0.03998238241117303, 'Cafeteria'),\n",
       " (0.039113225510153546, 'MultipurposeRoom'),\n",
       " (0.040568345633055204, 'Hospital'),\n",
       " (0.03969942204742738, 'WashingMachine'),\n",
       " (0.03931207368632974, 'Gasconnection'),\n",
       " (0.03999480018424478, 'AC'),\n",
       " (0.03919775585406159, 'Wifi'),\n",
       " (0.03932007375382552, \"Children'splayarea\"),\n",
       " (0.041029358353502826, 'LiftAvailable'),\n",
       " (0.03757619917023306, 'BED'),\n",
       " (0.0350355020554658, 'VaastuCompliant'),\n",
       " (0.039854258217793766, 'Microwave'),\n",
       " (0.041219563610236334, 'GolfCourse'),\n",
       " (0.039979575294474254, 'TV'),\n",
       " (0.039911322248855, 'DiningTable'),\n",
       " (0.03964757856368755, 'Sofa'),\n",
       " (0.04032413462296374, 'Wardrobe'),\n",
       " (0.03991553499450036, 'Refrigerator')]"
      ]
     },
     "execution_count": 48,
     "metadata": {},
     "output_type": "execute_result"
    }
   ],
   "source": [
    "corr_list = []\n",
    "for column in df.select_dtypes(\"number\").columns:\n",
    "    corr = df[column].corr(df[\"Price\"])\n",
    "    corr_list.append((corr, column))\n",
    "\n",
    "corr_list\n"
   ]
  },
  {
   "cell_type": "markdown",
   "id": "eff7bdb7",
   "metadata": {},
   "source": [
    "## This is the correlations between price and other columns"
   ]
  },
  {
   "cell_type": "code",
   "execution_count": null,
   "id": "4bdf129f",
   "metadata": {},
   "outputs": [],
   "source": []
  }
 ],
 "metadata": {
  "kernelspec": {
   "display_name": "Python 3 (ipykernel)",
   "language": "python",
   "name": "python3"
  },
  "language_info": {
   "codemirror_mode": {
    "name": "ipython",
    "version": 3
   },
   "file_extension": ".py",
   "mimetype": "text/x-python",
   "name": "python",
   "nbconvert_exporter": "python",
   "pygments_lexer": "ipython3",
   "version": "3.9.12"
  }
 },
 "nbformat": 4,
 "nbformat_minor": 5
}
