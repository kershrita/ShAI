{
 "cells": [
  {
   "cell_type": "markdown",
   "metadata": {
    "id": "Yn9A2rZt9A1Y"
   },
   "source": [
    "___\n",
    "\n",
    "___\n",
    "# Logistic Regression with Python\n",
    "\n",
    "For this lecture we will be working with the [Titanic Data Set from Kaggle](https://www.kaggle.com/c/titanic). This is a very famous data set and very often is a student's first step in machine learning! \n",
    "\n",
    "We'll be trying to predict a classification- survival or deceased.\n",
    "Let's begin our understanding of implementing Logistic Regression in Python for classification.\n",
    "\n",
    "We'll use a \"semi-cleaned\" version of the titanic data set, if you use the data set hosted directly on Kaggle, you may need to do some additional cleaning not shown in this lecture notebook.\n",
    "\n",
    "## Import Libraries\n",
    "Let's import some libraries to get started!"
   ]
  },
  {
   "cell_type": "code",
   "execution_count": 1,
   "metadata": {
    "id": "4L5LhzRf9A1Z"
   },
   "outputs": [],
   "source": [
    "import pandas as pd\n",
    "import numpy as np\n",
    "import matplotlib.pyplot as plt\n",
    "import seaborn as sns\n",
    "%matplotlib inline\n",
    "from sklearn.metrics import confusion_matrix"
   ]
  },
  {
   "cell_type": "markdown",
   "metadata": {
    "id": "WSiNN1Ny9A1a"
   },
   "source": [
    "## The Data\n",
    "\n",
    "Let's start by reading in the titanic_train.csv file into a pandas dataframe."
   ]
  },
  {
   "cell_type": "code",
   "execution_count": 2,
   "metadata": {
    "id": "6tSJe2CP9A1a"
   },
   "outputs": [],
   "source": [
    "train = pd.read_csv('titanic_train.csv')"
   ]
  },
  {
   "cell_type": "code",
   "execution_count": null,
   "metadata": {
    "id": "7Kjqodgb9A1a",
    "outputId": "ed7e23b6-656c-4efa-9812-a7a3cf366bfd"
   },
   "outputs": [
    {
     "data": {
      "text/html": [
       "<div>\n",
       "<style scoped>\n",
       "    .dataframe tbody tr th:only-of-type {\n",
       "        vertical-align: middle;\n",
       "    }\n",
       "\n",
       "    .dataframe tbody tr th {\n",
       "        vertical-align: top;\n",
       "    }\n",
       "\n",
       "    .dataframe thead th {\n",
       "        text-align: right;\n",
       "    }\n",
       "</style>\n",
       "<table border=\"1\" class=\"dataframe\">\n",
       "  <thead>\n",
       "    <tr style=\"text-align: right;\">\n",
       "      <th></th>\n",
       "      <th>PassengerId</th>\n",
       "      <th>Survived</th>\n",
       "      <th>Pclass</th>\n",
       "      <th>Name</th>\n",
       "      <th>Sex</th>\n",
       "      <th>Age</th>\n",
       "      <th>SibSp</th>\n",
       "      <th>Parch</th>\n",
       "      <th>Ticket</th>\n",
       "      <th>Fare</th>\n",
       "      <th>Cabin</th>\n",
       "      <th>Embarked</th>\n",
       "    </tr>\n",
       "  </thead>\n",
       "  <tbody>\n",
       "    <tr>\n",
       "      <th>0</th>\n",
       "      <td>1</td>\n",
       "      <td>0</td>\n",
       "      <td>3</td>\n",
       "      <td>Braund, Mr. Owen Harris</td>\n",
       "      <td>male</td>\n",
       "      <td>22.0</td>\n",
       "      <td>1</td>\n",
       "      <td>0</td>\n",
       "      <td>A/5 21171</td>\n",
       "      <td>7.2500</td>\n",
       "      <td>NaN</td>\n",
       "      <td>S</td>\n",
       "    </tr>\n",
       "    <tr>\n",
       "      <th>1</th>\n",
       "      <td>2</td>\n",
       "      <td>1</td>\n",
       "      <td>1</td>\n",
       "      <td>Cumings, Mrs. John Bradley (Florence Briggs Th...</td>\n",
       "      <td>female</td>\n",
       "      <td>38.0</td>\n",
       "      <td>1</td>\n",
       "      <td>0</td>\n",
       "      <td>PC 17599</td>\n",
       "      <td>71.2833</td>\n",
       "      <td>C85</td>\n",
       "      <td>C</td>\n",
       "    </tr>\n",
       "    <tr>\n",
       "      <th>2</th>\n",
       "      <td>3</td>\n",
       "      <td>1</td>\n",
       "      <td>3</td>\n",
       "      <td>Heikkinen, Miss. Laina</td>\n",
       "      <td>female</td>\n",
       "      <td>26.0</td>\n",
       "      <td>0</td>\n",
       "      <td>0</td>\n",
       "      <td>STON/O2. 3101282</td>\n",
       "      <td>7.9250</td>\n",
       "      <td>NaN</td>\n",
       "      <td>S</td>\n",
       "    </tr>\n",
       "    <tr>\n",
       "      <th>3</th>\n",
       "      <td>4</td>\n",
       "      <td>1</td>\n",
       "      <td>1</td>\n",
       "      <td>Futrelle, Mrs. Jacques Heath (Lily May Peel)</td>\n",
       "      <td>female</td>\n",
       "      <td>35.0</td>\n",
       "      <td>1</td>\n",
       "      <td>0</td>\n",
       "      <td>113803</td>\n",
       "      <td>53.1000</td>\n",
       "      <td>C123</td>\n",
       "      <td>S</td>\n",
       "    </tr>\n",
       "    <tr>\n",
       "      <th>4</th>\n",
       "      <td>5</td>\n",
       "      <td>0</td>\n",
       "      <td>3</td>\n",
       "      <td>Allen, Mr. William Henry</td>\n",
       "      <td>male</td>\n",
       "      <td>35.0</td>\n",
       "      <td>0</td>\n",
       "      <td>0</td>\n",
       "      <td>373450</td>\n",
       "      <td>8.0500</td>\n",
       "      <td>NaN</td>\n",
       "      <td>S</td>\n",
       "    </tr>\n",
       "  </tbody>\n",
       "</table>\n",
       "</div>"
      ],
      "text/plain": [
       "   PassengerId  Survived  Pclass  \\\n",
       "0            1         0       3   \n",
       "1            2         1       1   \n",
       "2            3         1       3   \n",
       "3            4         1       1   \n",
       "4            5         0       3   \n",
       "\n",
       "                                                Name     Sex   Age  SibSp  \\\n",
       "0                            Braund, Mr. Owen Harris    male  22.0      1   \n",
       "1  Cumings, Mrs. John Bradley (Florence Briggs Th...  female  38.0      1   \n",
       "2                             Heikkinen, Miss. Laina  female  26.0      0   \n",
       "3       Futrelle, Mrs. Jacques Heath (Lily May Peel)  female  35.0      1   \n",
       "4                           Allen, Mr. William Henry    male  35.0      0   \n",
       "\n",
       "   Parch            Ticket     Fare Cabin Embarked  \n",
       "0      0         A/5 21171   7.2500   NaN        S  \n",
       "1      0          PC 17599  71.2833   C85        C  \n",
       "2      0  STON/O2. 3101282   7.9250   NaN        S  \n",
       "3      0            113803  53.1000  C123        S  \n",
       "4      0            373450   8.0500   NaN        S  "
      ]
     },
     "execution_count": 3,
     "metadata": {},
     "output_type": "execute_result"
    }
   ],
   "source": [
    "train.head()"
   ]
  },
  {
   "cell_type": "markdown",
   "metadata": {
    "id": "uBeguj4i9A1b"
   },
   "source": [
    "# Exploratory Data Analysis\n",
    "\n",
    "Let's begin some exploratory data analysis! We'll start by checking out missing data!\n",
    "\n",
    "## Missing Data\n",
    "\n",
    "We can use seaborn to create a simple heatmap to see where we are missing data!"
   ]
  },
  {
   "cell_type": "code",
   "execution_count": 3,
   "metadata": {
    "colab": {
     "base_uri": "https://localhost:8080/",
     "height": 520
    },
    "id": "RaDvW6PR9A1b",
    "outputId": "913d6ffc-d6bc-4c9f-e65f-0754e5bca833"
   },
   "outputs": [
    {
     "data": {
      "text/plain": [
       "<Axes: >"
      ]
     },
     "execution_count": 3,
     "metadata": {},
     "output_type": "execute_result"
    },
    {
     "data": {
      "image/png": "[encoded data removed]",
      "text/plain": [
       "<Figure size 640x480 with 1 Axes>"
      ]
     },
     "metadata": {},
     "output_type": "display_data"
    }
   ],
   "source": [
    "sns.heatmap(train.isnull(),yticklabels=False,cbar=False,cmap='viridis')"
   ]
  },
  {
   "cell_type": "markdown",
   "metadata": {
    "id": "VdUTK_JW9A1b"
   },
   "source": [
    "Roughly 20 percent of the Age data is missing. The proportion of Age missing is likely small enough for reasonable replacement with some form of imputation. Looking at the Cabin column, it looks like we are just missing too much of that data to do something useful with at a basic level. We'll probably drop this later, or change it to another feature like \"Cabin Known: 1 or 0\"\n",
    "\n",
    "Let's continue on by visualizing some more of the data! "
   ]
  },
  {
   "cell_type": "code",
   "execution_count": null,
   "metadata": {
    "colab": {
     "base_uri": "https://localhost:8080/",
     "height": 469
    },
    "id": "q-gYOShB9A1c",
    "outputId": "bd790b0c-8a1a-453d-89a3-04279cc7296d"
   },
   "outputs": [
    {
     "data": {
      "text/plain": [
       "<Axes: xlabel='Survived', ylabel='count'>"
      ]
     },
     "execution_count": 5,
     "metadata": {},
     "output_type": "execute_result"
    },
    {
     "data": {
      "image/png": "[encoded data removed]",
      "text/plain": [
       "<Figure size 640x480 with 1 Axes>"
      ]
     },
     "metadata": {},
     "output_type": "display_data"
    }
   ],
   "source": [
    "sns.set_style('whitegrid')\n",
    "sns.countplot(x='Survived',data=train,palette='RdBu_r')"
   ]
  },
  {
   "cell_type": "code",
   "execution_count": null,
   "metadata": {
    "colab": {
     "base_uri": "https://localhost:8080/"
    },
    "id": "o9GFOJshFzUw",
    "outputId": "ecd94cfd-7cc3-4f0d-de95-b965938e77f8"
   },
   "outputs": [
    {
     "data": {
      "text/plain": [
       "0    549\n",
       "1    340\n",
       "Name: Survived, dtype: int64"
      ]
     },
     "execution_count": 46,
     "metadata": {},
     "output_type": "execute_result"
    }
   ],
   "source": [
    "train.Survived.value_counts()"
   ]
  },
  {
   "cell_type": "code",
   "execution_count": null,
   "metadata": {
    "colab": {
     "base_uri": "https://localhost:8080/",
     "height": 426
    },
    "id": "9V3n3BsBiMqh",
    "outputId": "1febab68-90bd-441b-87e6-1d058166e6ea"
   },
   "outputs": [
    {
     "data": {
      "text/plain": [
       "<Axes: ylabel='Survived'>"
      ]
     },
     "execution_count": 236,
     "metadata": {},
     "output_type": "execute_result"
    },
    {
     "data": {
      "image/png": "[encoded data removed]",
      "text/plain": [
       "<Figure size 640x480 with 1 Axes>"
      ]
     },
     "metadata": {},
     "output_type": "display_data"
    }
   ],
   "source": [
    "train.Survived.value_counts()\n",
    "train.Survived.value_counts().plot.pie(autopct='%.1f%%')"
   ]
  },
  {
   "cell_type": "code",
   "execution_count": null,
   "metadata": {
    "colab": {
     "base_uri": "https://localhost:8080/",
     "height": 469
    },
    "id": "YENa4huD9A1c",
    "outputId": "bbddbfc9-11ec-4eb3-f241-968d3e883f47"
   },
   "outputs": [
    {
     "data": {
      "text/plain": [
       "<Axes: xlabel='Survived', ylabel='count'>"
      ]
     },
     "execution_count": 6,
     "metadata": {},
     "output_type": "execute_result"
    },
    {
     "data": {
      "image/png": "[encoded data removed]",
      "text/plain": [
       "<Figure size 640x480 with 1 Axes>"
      ]
     },
     "metadata": {},
     "output_type": "display_data"
    }
   ],
   "source": [
    "sns.set_style('whitegrid')\n",
    "sns.countplot(x='Survived',hue='Sex',data=train,palette='RdBu_r')"
   ]
  },
  {
   "cell_type": "code",
   "execution_count": null,
   "metadata": {
    "colab": {
     "base_uri": "https://localhost:8080/",
     "height": 469
    },
    "id": "fbNzPJRU9A1c",
    "outputId": "229b2929-376f-4ee2-b68a-190c8317ed20"
   },
   "outputs": [
    {
     "data": {
      "text/plain": [
       "<Axes: xlabel='Survived', ylabel='count'>"
      ]
     },
     "execution_count": 7,
     "metadata": {},
     "output_type": "execute_result"
    },
    {
     "data": {
      "image/png": "[encoded data removed]",
      "text/plain": [
       "<Figure size 640x480 with 1 Axes>"
      ]
     },
     "metadata": {},
     "output_type": "display_data"
    }
   ],
   "source": [
    "sns.set_style('whitegrid')\n",
    "sns.countplot(x='Survived',hue='Pclass',data=train,palette='rainbow')"
   ]
  },
  {
   "cell_type": "code",
   "execution_count": null,
   "metadata": {
    "colab": {
     "base_uri": "https://localhost:8080/",
     "height": 450
    },
    "id": "8FsN3_pS9A1d",
    "outputId": "b890bd44-028a-426e-b8f7-e93b02fc3a42"
   },
   "outputs": [
    {
     "data": {
      "text/plain": [
       "<Axes: >"
      ]
     },
     "execution_count": 8,
     "metadata": {},
     "output_type": "execute_result"
    },
    {
     "data": {
      "image/png": "[encoded data removed]",
      "text/plain": [
       "<Figure size 640x480 with 1 Axes>"
      ]
     },
     "metadata": {},
     "output_type": "display_data"
    }
   ],
   "source": [
    "train['Age'].hist(bins=30,color='darkred',alpha=0.7)"
   ]
  },
  {
   "cell_type": "code",
   "execution_count": null,
   "metadata": {
    "colab": {
     "base_uri": "https://localhost:8080/",
     "height": 469
    },
    "id": "cu8AZd4V9A1d",
    "outputId": "cc97db3e-5359-4dfd-aff6-201d77eff568"
   },
   "outputs": [
    {
     "data": {
      "text/plain": [
       "<Axes: xlabel='SibSp', ylabel='count'>"
      ]
     },
     "execution_count": 9,
     "metadata": {},
     "output_type": "execute_result"
    },
    {
     "data": {
      "image/png": "[encoded data removed]",
      "text/plain": [
       "<Figure size 640x480 with 1 Axes>"
      ]
     },
     "metadata": {},
     "output_type": "display_data"
    }
   ],
   "source": [
    "sns.countplot(x='SibSp',data=train)"
   ]
  },
  {
   "cell_type": "markdown",
   "metadata": {
    "id": "lb5Bmad19A1d"
   },
   "source": [
    "___\n",
    "## Data Cleaning\n",
    "We want to fill in missing age data instead of just dropping the missing age data rows. One way to do this is by filling in the mean age of all the passengers (imputation).\n",
    "However we can be smarter about this and check the average age by passenger class. For example:\n"
   ]
  },
  {
   "cell_type": "code",
   "execution_count": null,
   "metadata": {
    "colab": {
     "base_uri": "https://localhost:8080/",
     "height": 639
    },
    "id": "c9aJo5Je9A1d",
    "outputId": "ffcec856-a3c3-4fba-a811-6a0fa806d319"
   },
   "outputs": [
    {
     "data": {
      "text/plain": [
       "<Axes: xlabel='Pclass', ylabel='Age'>"
      ]
     },
     "execution_count": 10,
     "metadata": {},
     "output_type": "execute_result"
    },
    {
     "data": {
      "image/png": "[encoded data removed]",
      "text/plain": [
       "<Figure size 1200x700 with 1 Axes>"
      ]
     },
     "metadata": {},
     "output_type": "display_data"
    }
   ],
   "source": [
    "plt.figure(figsize=(12, 7))\n",
    "sns.boxplot(x='Pclass',y='Age',data=train,palette='winter')"
   ]
  },
  {
   "cell_type": "markdown",
   "metadata": {
    "id": "5RITVdf69A1e"
   },
   "source": [
    "We can see the wealthier passengers in the higher classes tend to be older, which makes sense. We'll use these average age values to impute based on Pclass for Age."
   ]
  },
  {
   "cell_type": "code",
   "execution_count": null,
   "metadata": {
    "id": "3TDP8aP29A1e"
   },
   "outputs": [],
   "source": [
    "def impute_age(cols):\n",
    "    Age = cols[0]\n",
    "    Pclass = cols[1]\n",
    "    \n",
    "    if pd.isnull(Age):\n",
    "\n",
    "        if Pclass == 1:\n",
    "            return 37\n",
    "\n",
    "        elif Pclass == 2:\n",
    "            return 29\n",
    "\n",
    "        else:\n",
    "            return 24\n",
    "\n",
    "    else:\n",
    "        return Age"
   ]
  },
  {
   "cell_type": "markdown",
   "metadata": {
    "id": "AS18-MNJ9A1e"
   },
   "source": [
    "Now apply that function!"
   ]
  },
  {
   "cell_type": "code",
   "execution_count": null,
   "metadata": {
    "id": "JM_N50Qp9A1e"
   },
   "outputs": [],
   "source": [
    "train['Age'] = train[['Age','Pclass']].apply(impute_age,axis=1)"
   ]
  },
  {
   "cell_type": "markdown",
   "metadata": {
    "id": "IpRYpxLz9A1e"
   },
   "source": [
    "Now let's check that heat map again!"
   ]
  },
  {
   "cell_type": "code",
   "execution_count": null,
   "metadata": {
    "colab": {
     "base_uri": "https://localhost:8080/",
     "height": 520
    },
    "id": "eFtGKgy99A1f",
    "outputId": "b3980a70-fa9b-4012-b9d5-58d7abf51bb2"
   },
   "outputs": [
    {
     "data": {
      "text/plain": [
       "<Axes: >"
      ]
     },
     "execution_count": 6,
     "metadata": {},
     "output_type": "execute_result"
    },
    {
     "data": {
      "image/png": "[encoded data removed]",
      "text/plain": [
       "<Figure size 640x480 with 1 Axes>"
      ]
     },
     "metadata": {},
     "output_type": "display_data"
    }
   ],
   "source": [
    "sns.heatmap(train.isnull(),yticklabels=False,cbar=False,cmap='viridis')"
   ]
  },
  {
   "cell_type": "markdown",
   "metadata": {
    "id": "bJGiW33d9A1f"
   },
   "source": [
    "Great! Let's go ahead and drop the Cabin column and the row in Embarked that is NaN."
   ]
  },
  {
   "cell_type": "code",
   "execution_count": null,
   "metadata": {
    "id": "czsHg_AL9A1f"
   },
   "outputs": [],
   "source": [
    "train.drop('Cabin',axis=1,inplace=True)"
   ]
  },
  {
   "cell_type": "code",
   "execution_count": null,
   "metadata": {
    "colab": {
     "base_uri": "https://localhost:8080/",
     "height": 206
    },
    "id": "F9W2Wqbw9A1f",
    "outputId": "35aaefbe-9fa5-4fa7-dab1-8f12a5d3ceed"
   },
   "outputs": [
    {
     "data": {
      "text/html": [
       "\n",
       "  <div id=\"df-0d313e56-d427-48f6-9d09-05a154c3932f\">\n",
       "    <div class=\"colab-df-container\">\n",
       "      <div>\n",
       "<style scoped>\n",
       "    .dataframe tbody tr th:only-of-type {\n",
       "        vertical-align: middle;\n",
       "    }\n",
       "\n",
       "    .dataframe tbody tr th {\n",
       "        vertical-align: top;\n",
       "    }\n",
       "\n",
       "    .dataframe thead th {\n",
       "        text-align: right;\n",
       "    }\n",
       "</style>\n",
       "<table border=\"1\" class=\"dataframe\">\n",
       "  <thead>\n",
       "    <tr style=\"text-align: right;\">\n",
       "      <th></th>\n",
       "      <th>PassengerId</th>\n",
       "      <th>Survived</th>\n",
       "      <th>Pclass</th>\n",
       "      <th>Name</th>\n",
       "      <th>Sex</th>\n",
       "      <th>Age</th>\n",
       "      <th>SibSp</th>\n",
       "      <th>Parch</th>\n",
       "      <th>Ticket</th>\n",
       "      <th>Fare</th>\n",
       "      <th>Embarked</th>\n",
       "    </tr>\n",
       "  </thead>\n",
       "  <tbody>\n",
       "    <tr>\n",
       "      <th>0</th>\n",
       "      <td>1</td>\n",
       "      <td>0</td>\n",
       "      <td>3</td>\n",
       "      <td>Braund, Mr. Owen Harris</td>\n",
       "      <td>male</td>\n",
       "      <td>22.0</td>\n",
       "      <td>1</td>\n",
       "      <td>0</td>\n",
       "      <td>A/5 21171</td>\n",
       "      <td>7.2500</td>\n",
       "      <td>S</td>\n",
       "    </tr>\n",
       "    <tr>\n",
       "      <th>1</th>\n",
       "      <td>2</td>\n",
       "      <td>1</td>\n",
       "      <td>1</td>\n",
       "      <td>Cumings, Mrs. John Bradley (Florence Briggs Th...</td>\n",
       "      <td>female</td>\n",
       "      <td>38.0</td>\n",
       "      <td>1</td>\n",
       "      <td>0</td>\n",
       "      <td>PC 17599</td>\n",
       "      <td>71.2833</td>\n",
       "      <td>C</td>\n",
       "    </tr>\n",
       "    <tr>\n",
       "      <th>2</th>\n",
       "      <td>3</td>\n",
       "      <td>1</td>\n",
       "      <td>3</td>\n",
       "      <td>Heikkinen, Miss. Laina</td>\n",
       "      <td>female</td>\n",
       "      <td>26.0</td>\n",
       "      <td>0</td>\n",
       "      <td>0</td>\n",
       "      <td>STON/O2. 3101282</td>\n",
       "      <td>7.9250</td>\n",
       "      <td>S</td>\n",
       "    </tr>\n",
       "    <tr>\n",
       "      <th>3</th>\n",
       "      <td>4</td>\n",
       "      <td>1</td>\n",
       "      <td>1</td>\n",
       "      <td>Futrelle, Mrs. Jacques Heath (Lily May Peel)</td>\n",
       "      <td>female</td>\n",
       "      <td>35.0</td>\n",
       "      <td>1</td>\n",
       "      <td>0</td>\n",
       "      <td>113803</td>\n",
       "      <td>53.1000</td>\n",
       "      <td>S</td>\n",
       "    </tr>\n",
       "    <tr>\n",
       "      <th>4</th>\n",
       "      <td>5</td>\n",
       "      <td>0</td>\n",
       "      <td>3</td>\n",
       "      <td>Allen, Mr. William Henry</td>\n",
       "      <td>male</td>\n",
       "      <td>35.0</td>\n",
       "      <td>0</td>\n",
       "      <td>0</td>\n",
       "      <td>373450</td>\n",
       "      <td>8.0500</td>\n",
       "      <td>S</td>\n",
       "    </tr>\n",
       "  </tbody>\n",
       "</table>\n",
       "</div>\n",
       "      <button class=\"colab-df-convert\" onclick=\"convertToInteractive('df-0d313e56-d427-48f6-9d09-05a154c3932f')\"\n",
       "              title=\"Convert this dataframe to an interactive table.\"\n",
       "              style=\"display:none;\">\n",
       "        \n",
       "  <svg xmlns=\"http://www.w3.org/2000/svg\" height=\"24px\"viewBox=\"0 0 24 24\"\n",
       "       width=\"24px\">\n",
       "    <path d=\"M0 0h24v24H0V0z\" fill=\"none\"/>\n",
       "    <path d=\"M18.56 5.44l.94 2.06.94-2.06 2.06-.94-2.06-.94-.94-2.06-.94 2.06-2.06.94zm-11 1L8.5 8.5l.94-2.06 2.06-.94-2.06-.94L8.5 2.5l-.94 2.06-2.06.94zm10 10l.94 2.06.94-2.06 2.06-.94-2.06-.94-.94-2.06-.94 2.06-2.06.94z\"/><path d=\"M17.41 7.96l-1.37-1.37c-.4-.4-.92-.59-1.43-.59-.52 0-1.04.2-1.43.59L10.3 9.45l-7.72 7.72c-.78.78-.78 2.05 0 2.83L4 21.41c.39.39.9.59 1.41.59.51 0 1.02-.2 1.41-.59l7.78-7.78 2.81-2.81c.8-.78.8-2.07 0-2.86zM5.41 20L4 18.59l7.72-7.72 1.47 1.35L5.41 20z\"/>\n",
       "  </svg>\n",
       "      </button>\n",
       "      \n",
       "  <style>\n",
       "    .colab-df-container {\n",
       "      display:flex;\n",
       "      flex-wrap:wrap;\n",
       "      gap: 12px;\n",
       "    }\n",
       "\n",
       "    .colab-df-convert {\n",
       "      background-color: #E8F0FE;\n",
       "      border: none;\n",
       "      border-radius: 50%;\n",
       "      cursor: pointer;\n",
       "      display: none;\n",
       "      fill: #1967D2;\n",
       "      height: 32px;\n",
       "      padding: 0 0 0 0;\n",
       "      width: 32px;\n",
       "    }\n",
       "\n",
       "    .colab-df-convert:hover {\n",
       "      background-color: #E2EBFA;\n",
       "      box-shadow: 0px 1px 2px rgba(60, 64, 67, 0.3), 0px 1px 3px 1px rgba(60, 64, 67, 0.15);\n",
       "      fill: #174EA6;\n",
       "    }\n",
       "\n",
       "    [theme=dark] .colab-df-convert {\n",
       "      background-color: #3B4455;\n",
       "      fill: #D2E3FC;\n",
       "    }\n",
       "\n",
       "    [theme=dark] .colab-df-convert:hover {\n",
       "      background-color: #434B5C;\n",
       "      box-shadow: 0px 1px 3px 1px rgba(0, 0, 0, 0.15);\n",
       "      filter: drop-shadow(0px 1px 2px rgba(0, 0, 0, 0.3));\n",
       "      fill: #FFFFFF;\n",
       "    }\n",
       "  </style>\n",
       "\n",
       "      <script>\n",
       "        const buttonEl =\n",
       "          document.querySelector('#df-0d313e56-d427-48f6-9d09-05a154c3932f button.colab-df-convert');\n",
       "        buttonEl.style.display =\n",
       "          google.colab.kernel.accessAllowed ? 'block' : 'none';\n",
       "\n",
       "        async function convertToInteractive(key) {\n",
       "          const element = document.querySelector('#df-0d313e56-d427-48f6-9d09-05a154c3932f');\n",
       "          const dataTable =\n",
       "            await google.colab.kernel.invokeFunction('convertToInteractive',\n",
       "                                                     [key], {});\n",
       "          if (!dataTable) return;\n",
       "\n",
       "          const docLinkHtml = 'Like what you see? Visit the ' +\n",
       "            '<a target=\"_blank\" href=https://colab.research.google.com/notebooks/data_table.ipynb>data table notebook</a>'\n",
       "            + ' to learn more about interactive tables.';\n",
       "          element.innerHTML = '';\n",
       "          dataTable['output_type'] = 'display_data';\n",
       "          await google.colab.output.renderOutput(dataTable, element);\n",
       "          const docLink = document.createElement('div');\n",
       "          docLink.innerHTML = docLinkHtml;\n",
       "          element.appendChild(docLink);\n",
       "        }\n",
       "      </script>\n",
       "    </div>\n",
       "  </div>\n",
       "  "
      ],
      "text/plain": [
       "   PassengerId  Survived  Pclass  \\\n",
       "0            1         0       3   \n",
       "1            2         1       1   \n",
       "2            3         1       3   \n",
       "3            4         1       1   \n",
       "4            5         0       3   \n",
       "\n",
       "                                                Name     Sex   Age  SibSp  \\\n",
       "0                            Braund, Mr. Owen Harris    male  22.0      1   \n",
       "1  Cumings, Mrs. John Bradley (Florence Briggs Th...  female  38.0      1   \n",
       "2                             Heikkinen, Miss. Laina  female  26.0      0   \n",
       "3       Futrelle, Mrs. Jacques Heath (Lily May Peel)  female  35.0      1   \n",
       "4                           Allen, Mr. William Henry    male  35.0      0   \n",
       "\n",
       "   Parch            Ticket     Fare Embarked  \n",
       "0      0         A/5 21171   7.2500        S  \n",
       "1      0          PC 17599  71.2833        C  \n",
       "2      0  STON/O2. 3101282   7.9250        S  \n",
       "3      0            113803  53.1000        S  \n",
       "4      0            373450   8.0500        S  "
      ]
     },
     "execution_count": 249,
     "metadata": {},
     "output_type": "execute_result"
    }
   ],
   "source": [
    "train.head()"
   ]
  },
  {
   "cell_type": "code",
   "execution_count": null,
   "metadata": {
    "colab": {
     "base_uri": "https://localhost:8080/",
     "height": 520
    },
    "id": "ULjKKgLl9A1f",
    "outputId": "b9df0195-a4af-4cb0-c395-50681580caa8"
   },
   "outputs": [
    {
     "data": {
      "text/plain": [
       "<Axes: >"
      ]
     },
     "execution_count": 250,
     "metadata": {},
     "output_type": "execute_result"
    },
    {
     "data": {
      "image/png": "[encoded data removed]",
      "text/plain": [
       "<Figure size 640x480 with 1 Axes>"
      ]
     },
     "metadata": {},
     "output_type": "display_data"
    }
   ],
   "source": [
    "sns.heatmap(train.isnull(),yticklabels=False,cbar=False,cmap='viridis')"
   ]
  },
  {
   "cell_type": "code",
   "execution_count": null,
   "metadata": {
    "id": "WibTZcdG9A1g"
   },
   "outputs": [],
   "source": [
    "train.dropna(inplace=True)"
   ]
  },
  {
   "cell_type": "code",
   "execution_count": null,
   "metadata": {
    "colab": {
     "base_uri": "https://localhost:8080/",
     "height": 520
    },
    "id": "UKnHEdrX9A1g",
    "outputId": "14af1458-1c65-4983-ee73-5bcf73c8ad5a"
   },
   "outputs": [
    {
     "data": {
      "text/plain": [
       "<Axes: >"
      ]
     },
     "execution_count": 9,
     "metadata": {},
     "output_type": "execute_result"
    },
    {
     "data": {
      "image/png": "[encoded data removed]",
      "text/plain": [
       "<Figure size 640x480 with 1 Axes>"
      ]
     },
     "metadata": {},
     "output_type": "display_data"
    }
   ],
   "source": [
    "sns.heatmap(train.isnull(),yticklabels=False,cbar=False,cmap='viridis')"
   ]
  },
  {
   "cell_type": "markdown",
   "metadata": {
    "id": "PsyNYgWI9A1g"
   },
   "source": [
    "## Converting Categorical Features \n",
    "\n",
    "We'll need to convert categorical features to dummy variables using pandas! Otherwise our machine learning algorithm won't be able to directly take in those features as inputs."
   ]
  },
  {
   "cell_type": "code",
   "execution_count": null,
   "metadata": {
    "colab": {
     "base_uri": "https://localhost:8080/"
    },
    "id": "s6vTImVB9A1g",
    "outputId": "ec0bfced-39b2-4eca-8079-0ae6d1af1545"
   },
   "outputs": [
    {
     "name": "stdout",
     "output_type": "stream",
     "text": [
      "<class 'pandas.core.frame.DataFrame'>\n",
      "Int64Index: 889 entries, 0 to 890\n",
      "Data columns (total 11 columns):\n",
      " #   Column       Non-Null Count  Dtype  \n",
      "---  ------       --------------  -----  \n",
      " 0   PassengerId  889 non-null    int64  \n",
      " 1   Survived     889 non-null    int64  \n",
      " 2   Pclass       889 non-null    int64  \n",
      " 3   Name         889 non-null    object \n",
      " 4   Sex          889 non-null    object \n",
      " 5   Age          889 non-null    float64\n",
      " 6   SibSp        889 non-null    int64  \n",
      " 7   Parch        889 non-null    int64  \n",
      " 8   Ticket       889 non-null    object \n",
      " 9   Fare         889 non-null    float64\n",
      " 10  Embarked     889 non-null    object \n",
      "dtypes: float64(2), int64(5), object(4)\n",
      "memory usage: 83.3+ KB\n"
     ]
    }
   ],
   "source": [
    "train.info()"
   ]
  },
  {
   "cell_type": "code",
   "execution_count": null,
   "metadata": {
    "colab": {
     "base_uri": "https://localhost:8080/",
     "height": 423
    },
    "id": "fXkzLXdK9A1g",
    "outputId": "98f656eb-d968-4af1-8939-730407decb20"
   },
   "outputs": [
    {
     "data": {
      "text/html": [
       "\n",
       "  <div id=\"df-eb072787-207f-4e7b-9ae6-b6792c5cd43b\">\n",
       "    <div class=\"colab-df-container\">\n",
       "      <div>\n",
       "<style scoped>\n",
       "    .dataframe tbody tr th:only-of-type {\n",
       "        vertical-align: middle;\n",
       "    }\n",
       "\n",
       "    .dataframe tbody tr th {\n",
       "        vertical-align: top;\n",
       "    }\n",
       "\n",
       "    .dataframe thead th {\n",
       "        text-align: right;\n",
       "    }\n",
       "</style>\n",
       "<table border=\"1\" class=\"dataframe\">\n",
       "  <thead>\n",
       "    <tr style=\"text-align: right;\">\n",
       "      <th></th>\n",
       "      <th>female</th>\n",
       "      <th>male</th>\n",
       "    </tr>\n",
       "  </thead>\n",
       "  <tbody>\n",
       "    <tr>\n",
       "      <th>0</th>\n",
       "      <td>0</td>\n",
       "      <td>1</td>\n",
       "    </tr>\n",
       "    <tr>\n",
       "      <th>1</th>\n",
       "      <td>1</td>\n",
       "      <td>0</td>\n",
       "    </tr>\n",
       "    <tr>\n",
       "      <th>2</th>\n",
       "      <td>1</td>\n",
       "      <td>0</td>\n",
       "    </tr>\n",
       "    <tr>\n",
       "      <th>3</th>\n",
       "      <td>1</td>\n",
       "      <td>0</td>\n",
       "    </tr>\n",
       "    <tr>\n",
       "      <th>4</th>\n",
       "      <td>0</td>\n",
       "      <td>1</td>\n",
       "    </tr>\n",
       "    <tr>\n",
       "      <th>...</th>\n",
       "      <td>...</td>\n",
       "      <td>...</td>\n",
       "    </tr>\n",
       "    <tr>\n",
       "      <th>886</th>\n",
       "      <td>0</td>\n",
       "      <td>1</td>\n",
       "    </tr>\n",
       "    <tr>\n",
       "      <th>887</th>\n",
       "      <td>1</td>\n",
       "      <td>0</td>\n",
       "    </tr>\n",
       "    <tr>\n",
       "      <th>888</th>\n",
       "      <td>1</td>\n",
       "      <td>0</td>\n",
       "    </tr>\n",
       "    <tr>\n",
       "      <th>889</th>\n",
       "      <td>0</td>\n",
       "      <td>1</td>\n",
       "    </tr>\n",
       "    <tr>\n",
       "      <th>890</th>\n",
       "      <td>0</td>\n",
       "      <td>1</td>\n",
       "    </tr>\n",
       "  </tbody>\n",
       "</table>\n",
       "<p>889 rows × 2 columns</p>\n",
       "</div>\n",
       "      <button class=\"colab-df-convert\" onclick=\"convertToInteractive('df-eb072787-207f-4e7b-9ae6-b6792c5cd43b')\"\n",
       "              title=\"Convert this dataframe to an interactive table.\"\n",
       "              style=\"display:none;\">\n",
       "        \n",
       "  <svg xmlns=\"http://www.w3.org/2000/svg\" height=\"24px\"viewBox=\"0 0 24 24\"\n",
       "       width=\"24px\">\n",
       "    <path d=\"M0 0h24v24H0V0z\" fill=\"none\"/>\n",
       "    <path d=\"M18.56 5.44l.94 2.06.94-2.06 2.06-.94-2.06-.94-.94-2.06-.94 2.06-2.06.94zm-11 1L8.5 8.5l.94-2.06 2.06-.94-2.06-.94L8.5 2.5l-.94 2.06-2.06.94zm10 10l.94 2.06.94-2.06 2.06-.94-2.06-.94-.94-2.06-.94 2.06-2.06.94z\"/><path d=\"M17.41 7.96l-1.37-1.37c-.4-.4-.92-.59-1.43-.59-.52 0-1.04.2-1.43.59L10.3 9.45l-7.72 7.72c-.78.78-.78 2.05 0 2.83L4 21.41c.39.39.9.59 1.41.59.51 0 1.02-.2 1.41-.59l7.78-7.78 2.81-2.81c.8-.78.8-2.07 0-2.86zM5.41 20L4 18.59l7.72-7.72 1.47 1.35L5.41 20z\"/>\n",
       "  </svg>\n",
       "      </button>\n",
       "      \n",
       "  <style>\n",
       "    .colab-df-container {\n",
       "      display:flex;\n",
       "      flex-wrap:wrap;\n",
       "      gap: 12px;\n",
       "    }\n",
       "\n",
       "    .colab-df-convert {\n",
       "      background-color: #E8F0FE;\n",
       "      border: none;\n",
       "      border-radius: 50%;\n",
       "      cursor: pointer;\n",
       "      display: none;\n",
       "      fill: #1967D2;\n",
       "      height: 32px;\n",
       "      padding: 0 0 0 0;\n",
       "      width: 32px;\n",
       "    }\n",
       "\n",
       "    .colab-df-convert:hover {\n",
       "      background-color: #E2EBFA;\n",
       "      box-shadow: 0px 1px 2px rgba(60, 64, 67, 0.3), 0px 1px 3px 1px rgba(60, 64, 67, 0.15);\n",
       "      fill: #174EA6;\n",
       "    }\n",
       "\n",
       "    [theme=dark] .colab-df-convert {\n",
       "      background-color: #3B4455;\n",
       "      fill: #D2E3FC;\n",
       "    }\n",
       "\n",
       "    [theme=dark] .colab-df-convert:hover {\n",
       "      background-color: #434B5C;\n",
       "      box-shadow: 0px 1px 3px 1px rgba(0, 0, 0, 0.15);\n",
       "      filter: drop-shadow(0px 1px 2px rgba(0, 0, 0, 0.3));\n",
       "      fill: #FFFFFF;\n",
       "    }\n",
       "  </style>\n",
       "\n",
       "      <script>\n",
       "        const buttonEl =\n",
       "          document.querySelector('#df-eb072787-207f-4e7b-9ae6-b6792c5cd43b button.colab-df-convert');\n",
       "        buttonEl.style.display =\n",
       "          google.colab.kernel.accessAllowed ? 'block' : 'none';\n",
       "\n",
       "        async function convertToInteractive(key) {\n",
       "          const element = document.querySelector('#df-eb072787-207f-4e7b-9ae6-b6792c5cd43b');\n",
       "          const dataTable =\n",
       "            await google.colab.kernel.invokeFunction('convertToInteractive',\n",
       "                                                     [key], {});\n",
       "          if (!dataTable) return;\n",
       "\n",
       "          const docLinkHtml = 'Like what you see? Visit the ' +\n",
       "            '<a target=\"_blank\" href=https://colab.research.google.com/notebooks/data_table.ipynb>data table notebook</a>'\n",
       "            + ' to learn more about interactive tables.';\n",
       "          element.innerHTML = '';\n",
       "          dataTable['output_type'] = 'display_data';\n",
       "          await google.colab.output.renderOutput(dataTable, element);\n",
       "          const docLink = document.createElement('div');\n",
       "          docLink.innerHTML = docLinkHtml;\n",
       "          element.appendChild(docLink);\n",
       "        }\n",
       "      </script>\n",
       "    </div>\n",
       "  </div>\n",
       "  "
      ],
      "text/plain": [
       "     female  male\n",
       "0         0     1\n",
       "1         1     0\n",
       "2         1     0\n",
       "3         1     0\n",
       "4         0     1\n",
       "..      ...   ...\n",
       "886       0     1\n",
       "887       1     0\n",
       "888       1     0\n",
       "889       0     1\n",
       "890       0     1\n",
       "\n",
       "[889 rows x 2 columns]"
      ]
     },
     "execution_count": 10,
     "metadata": {},
     "output_type": "execute_result"
    }
   ],
   "source": [
    "pd.get_dummies(train['Sex'])"
   ]
  },
  {
   "cell_type": "code",
   "execution_count": null,
   "metadata": {
    "colab": {
     "base_uri": "https://localhost:8080/",
     "height": 423
    },
    "id": "M0ntb7b19A1h",
    "outputId": "4b53f3ff-79a5-4fbd-d758-5c30a76f78cf"
   },
   "outputs": [
    {
     "data": {
      "text/html": [
       "\n",
       "  <div id=\"df-9089393b-df57-4009-ae53-2507465f6c17\">\n",
       "    <div class=\"colab-df-container\">\n",
       "      <div>\n",
       "<style scoped>\n",
       "    .dataframe tbody tr th:only-of-type {\n",
       "        vertical-align: middle;\n",
       "    }\n",
       "\n",
       "    .dataframe tbody tr th {\n",
       "        vertical-align: top;\n",
       "    }\n",
       "\n",
       "    .dataframe thead th {\n",
       "        text-align: right;\n",
       "    }\n",
       "</style>\n",
       "<table border=\"1\" class=\"dataframe\">\n",
       "  <thead>\n",
       "    <tr style=\"text-align: right;\">\n",
       "      <th></th>\n",
       "      <th>male</th>\n",
       "    </tr>\n",
       "  </thead>\n",
       "  <tbody>\n",
       "    <tr>\n",
       "      <th>0</th>\n",
       "      <td>1</td>\n",
       "    </tr>\n",
       "    <tr>\n",
       "      <th>1</th>\n",
       "      <td>0</td>\n",
       "    </tr>\n",
       "    <tr>\n",
       "      <th>2</th>\n",
       "      <td>0</td>\n",
       "    </tr>\n",
       "    <tr>\n",
       "      <th>3</th>\n",
       "      <td>0</td>\n",
       "    </tr>\n",
       "    <tr>\n",
       "      <th>4</th>\n",
       "      <td>1</td>\n",
       "    </tr>\n",
       "    <tr>\n",
       "      <th>...</th>\n",
       "      <td>...</td>\n",
       "    </tr>\n",
       "    <tr>\n",
       "      <th>886</th>\n",
       "      <td>1</td>\n",
       "    </tr>\n",
       "    <tr>\n",
       "      <th>887</th>\n",
       "      <td>0</td>\n",
       "    </tr>\n",
       "    <tr>\n",
       "      <th>888</th>\n",
       "      <td>0</td>\n",
       "    </tr>\n",
       "    <tr>\n",
       "      <th>889</th>\n",
       "      <td>1</td>\n",
       "    </tr>\n",
       "    <tr>\n",
       "      <th>890</th>\n",
       "      <td>1</td>\n",
       "    </tr>\n",
       "  </tbody>\n",
       "</table>\n",
       "<p>889 rows × 1 columns</p>\n",
       "</div>\n",
       "      <button class=\"colab-df-convert\" onclick=\"convertToInteractive('df-9089393b-df57-4009-ae53-2507465f6c17')\"\n",
       "              title=\"Convert this dataframe to an interactive table.\"\n",
       "              style=\"display:none;\">\n",
       "        \n",
       "  <svg xmlns=\"http://www.w3.org/2000/svg\" height=\"24px\"viewBox=\"0 0 24 24\"\n",
       "       width=\"24px\">\n",
       "    <path d=\"M0 0h24v24H0V0z\" fill=\"none\"/>\n",
       "    <path d=\"M18.56 5.44l.94 2.06.94-2.06 2.06-.94-2.06-.94-.94-2.06-.94 2.06-2.06.94zm-11 1L8.5 8.5l.94-2.06 2.06-.94-2.06-.94L8.5 2.5l-.94 2.06-2.06.94zm10 10l.94 2.06.94-2.06 2.06-.94-2.06-.94-.94-2.06-.94 2.06-2.06.94z\"/><path d=\"M17.41 7.96l-1.37-1.37c-.4-.4-.92-.59-1.43-.59-.52 0-1.04.2-1.43.59L10.3 9.45l-7.72 7.72c-.78.78-.78 2.05 0 2.83L4 21.41c.39.39.9.59 1.41.59.51 0 1.02-.2 1.41-.59l7.78-7.78 2.81-2.81c.8-.78.8-2.07 0-2.86zM5.41 20L4 18.59l7.72-7.72 1.47 1.35L5.41 20z\"/>\n",
       "  </svg>\n",
       "      </button>\n",
       "      \n",
       "  <style>\n",
       "    .colab-df-container {\n",
       "      display:flex;\n",
       "      flex-wrap:wrap;\n",
       "      gap: 12px;\n",
       "    }\n",
       "\n",
       "    .colab-df-convert {\n",
       "      background-color: #E8F0FE;\n",
       "      border: none;\n",
       "      border-radius: 50%;\n",
       "      cursor: pointer;\n",
       "      display: none;\n",
       "      fill: #1967D2;\n",
       "      height: 32px;\n",
       "      padding: 0 0 0 0;\n",
       "      width: 32px;\n",
       "    }\n",
       "\n",
       "    .colab-df-convert:hover {\n",
       "      background-color: #E2EBFA;\n",
       "      box-shadow: 0px 1px 2px rgba(60, 64, 67, 0.3), 0px 1px 3px 1px rgba(60, 64, 67, 0.15);\n",
       "      fill: #174EA6;\n",
       "    }\n",
       "\n",
       "    [theme=dark] .colab-df-convert {\n",
       "      background-color: #3B4455;\n",
       "      fill: #D2E3FC;\n",
       "    }\n",
       "\n",
       "    [theme=dark] .colab-df-convert:hover {\n",
       "      background-color: #434B5C;\n",
       "      box-shadow: 0px 1px 3px 1px rgba(0, 0, 0, 0.15);\n",
       "      filter: drop-shadow(0px 1px 2px rgba(0, 0, 0, 0.3));\n",
       "      fill: #FFFFFF;\n",
       "    }\n",
       "  </style>\n",
       "\n",
       "      <script>\n",
       "        const buttonEl =\n",
       "          document.querySelector('#df-9089393b-df57-4009-ae53-2507465f6c17 button.colab-df-convert');\n",
       "        buttonEl.style.display =\n",
       "          google.colab.kernel.accessAllowed ? 'block' : 'none';\n",
       "\n",
       "        async function convertToInteractive(key) {\n",
       "          const element = document.querySelector('#df-9089393b-df57-4009-ae53-2507465f6c17');\n",
       "          const dataTable =\n",
       "            await google.colab.kernel.invokeFunction('convertToInteractive',\n",
       "                                                     [key], {});\n",
       "          if (!dataTable) return;\n",
       "\n",
       "          const docLinkHtml = 'Like what you see? Visit the ' +\n",
       "            '<a target=\"_blank\" href=https://colab.research.google.com/notebooks/data_table.ipynb>data table notebook</a>'\n",
       "            + ' to learn more about interactive tables.';\n",
       "          element.innerHTML = '';\n",
       "          dataTable['output_type'] = 'display_data';\n",
       "          await google.colab.output.renderOutput(dataTable, element);\n",
       "          const docLink = document.createElement('div');\n",
       "          docLink.innerHTML = docLinkHtml;\n",
       "          element.appendChild(docLink);\n",
       "        }\n",
       "      </script>\n",
       "    </div>\n",
       "  </div>\n",
       "  "
      ],
      "text/plain": [
       "     male\n",
       "0       1\n",
       "1       0\n",
       "2       0\n",
       "3       0\n",
       "4       1\n",
       "..    ...\n",
       "886     1\n",
       "887     0\n",
       "888     0\n",
       "889     1\n",
       "890     1\n",
       "\n",
       "[889 rows x 1 columns]"
      ]
     },
     "execution_count": 11,
     "metadata": {},
     "output_type": "execute_result"
    }
   ],
   "source": [
    "pd.get_dummies(train['Sex'],drop_first=True)"
   ]
  },
  {
   "cell_type": "code",
   "execution_count": null,
   "metadata": {
    "id": "NdZfM_nw9A1h"
   },
   "outputs": [],
   "source": [
    "sex = pd.get_dummies(train['Sex'],drop_first=True)\n",
    "embark = pd.get_dummies(train['Embarked'],drop_first=True)"
   ]
  },
  {
   "cell_type": "code",
   "execution_count": null,
   "metadata": {
    "id": "cQmI2Rk-9A1h"
   },
   "outputs": [],
   "source": [
    "train.drop(['Sex','Embarked','Name','Ticket'],axis=1,inplace=True)"
   ]
  },
  {
   "cell_type": "code",
   "execution_count": null,
   "metadata": {
    "id": "6KoTyxRt9A1h"
   },
   "outputs": [],
   "source": [
    "train = pd.concat([train,sex,embark],axis=1)"
   ]
  },
  {
   "cell_type": "code",
   "execution_count": null,
   "metadata": {
    "colab": {
     "base_uri": "https://localhost:8080/",
     "height": 206
    },
    "id": "3mTns3pR9A1h",
    "outputId": "de826376-c3a2-4015-eda5-c439fcecab8c"
   },
   "outputs": [
    {
     "data": {
      "text/html": [
       "\n",
       "  <div id=\"df-7b8f370f-e9b3-4d4a-ab71-b9f9f4053331\">\n",
       "    <div class=\"colab-df-container\">\n",
       "      <div>\n",
       "<style scoped>\n",
       "    .dataframe tbody tr th:only-of-type {\n",
       "        vertical-align: middle;\n",
       "    }\n",
       "\n",
       "    .dataframe tbody tr th {\n",
       "        vertical-align: top;\n",
       "    }\n",
       "\n",
       "    .dataframe thead th {\n",
       "        text-align: right;\n",
       "    }\n",
       "</style>\n",
       "<table border=\"1\" class=\"dataframe\">\n",
       "  <thead>\n",
       "    <tr style=\"text-align: right;\">\n",
       "      <th></th>\n",
       "      <th>PassengerId</th>\n",
       "      <th>Survived</th>\n",
       "      <th>Pclass</th>\n",
       "      <th>Age</th>\n",
       "      <th>SibSp</th>\n",
       "      <th>Parch</th>\n",
       "      <th>Fare</th>\n",
       "      <th>male</th>\n",
       "      <th>Q</th>\n",
       "      <th>S</th>\n",
       "    </tr>\n",
       "  </thead>\n",
       "  <tbody>\n",
       "    <tr>\n",
       "      <th>0</th>\n",
       "      <td>1</td>\n",
       "      <td>0</td>\n",
       "      <td>3</td>\n",
       "      <td>22.0</td>\n",
       "      <td>1</td>\n",
       "      <td>0</td>\n",
       "      <td>7.2500</td>\n",
       "      <td>1</td>\n",
       "      <td>0</td>\n",
       "      <td>1</td>\n",
       "    </tr>\n",
       "    <tr>\n",
       "      <th>1</th>\n",
       "      <td>2</td>\n",
       "      <td>1</td>\n",
       "      <td>1</td>\n",
       "      <td>38.0</td>\n",
       "      <td>1</td>\n",
       "      <td>0</td>\n",
       "      <td>71.2833</td>\n",
       "      <td>0</td>\n",
       "      <td>0</td>\n",
       "      <td>0</td>\n",
       "    </tr>\n",
       "    <tr>\n",
       "      <th>2</th>\n",
       "      <td>3</td>\n",
       "      <td>1</td>\n",
       "      <td>3</td>\n",
       "      <td>26.0</td>\n",
       "      <td>0</td>\n",
       "      <td>0</td>\n",
       "      <td>7.9250</td>\n",
       "      <td>0</td>\n",
       "      <td>0</td>\n",
       "      <td>1</td>\n",
       "    </tr>\n",
       "    <tr>\n",
       "      <th>3</th>\n",
       "      <td>4</td>\n",
       "      <td>1</td>\n",
       "      <td>1</td>\n",
       "      <td>35.0</td>\n",
       "      <td>1</td>\n",
       "      <td>0</td>\n",
       "      <td>53.1000</td>\n",
       "      <td>0</td>\n",
       "      <td>0</td>\n",
       "      <td>1</td>\n",
       "    </tr>\n",
       "    <tr>\n",
       "      <th>4</th>\n",
       "      <td>5</td>\n",
       "      <td>0</td>\n",
       "      <td>3</td>\n",
       "      <td>35.0</td>\n",
       "      <td>0</td>\n",
       "      <td>0</td>\n",
       "      <td>8.0500</td>\n",
       "      <td>1</td>\n",
       "      <td>0</td>\n",
       "      <td>1</td>\n",
       "    </tr>\n",
       "  </tbody>\n",
       "</table>\n",
       "</div>\n",
       "      <button class=\"colab-df-convert\" onclick=\"convertToInteractive('df-7b8f370f-e9b3-4d4a-ab71-b9f9f4053331')\"\n",
       "              title=\"Convert this dataframe to an interactive table.\"\n",
       "              style=\"display:none;\">\n",
       "        \n",
       "  <svg xmlns=\"http://www.w3.org/2000/svg\" height=\"24px\"viewBox=\"0 0 24 24\"\n",
       "       width=\"24px\">\n",
       "    <path d=\"M0 0h24v24H0V0z\" fill=\"none\"/>\n",
       "    <path d=\"M18.56 5.44l.94 2.06.94-2.06 2.06-.94-2.06-.94-.94-2.06-.94 2.06-2.06.94zm-11 1L8.5 8.5l.94-2.06 2.06-.94-2.06-.94L8.5 2.5l-.94 2.06-2.06.94zm10 10l.94 2.06.94-2.06 2.06-.94-2.06-.94-.94-2.06-.94 2.06-2.06.94z\"/><path d=\"M17.41 7.96l-1.37-1.37c-.4-.4-.92-.59-1.43-.59-.52 0-1.04.2-1.43.59L10.3 9.45l-7.72 7.72c-.78.78-.78 2.05 0 2.83L4 21.41c.39.39.9.59 1.41.59.51 0 1.02-.2 1.41-.59l7.78-7.78 2.81-2.81c.8-.78.8-2.07 0-2.86zM5.41 20L4 18.59l7.72-7.72 1.47 1.35L5.41 20z\"/>\n",
       "  </svg>\n",
       "      </button>\n",
       "      \n",
       "  <style>\n",
       "    .colab-df-container {\n",
       "      display:flex;\n",
       "      flex-wrap:wrap;\n",
       "      gap: 12px;\n",
       "    }\n",
       "\n",
       "    .colab-df-convert {\n",
       "      background-color: #E8F0FE;\n",
       "      border: none;\n",
       "      border-radius: 50%;\n",
       "      cursor: pointer;\n",
       "      display: none;\n",
       "      fill: #1967D2;\n",
       "      height: 32px;\n",
       "      padding: 0 0 0 0;\n",
       "      width: 32px;\n",
       "    }\n",
       "\n",
       "    .colab-df-convert:hover {\n",
       "      background-color: #E2EBFA;\n",
       "      box-shadow: 0px 1px 2px rgba(60, 64, 67, 0.3), 0px 1px 3px 1px rgba(60, 64, 67, 0.15);\n",
       "      fill: #174EA6;\n",
       "    }\n",
       "\n",
       "    [theme=dark] .colab-df-convert {\n",
       "      background-color: #3B4455;\n",
       "      fill: #D2E3FC;\n",
       "    }\n",
       "\n",
       "    [theme=dark] .colab-df-convert:hover {\n",
       "      background-color: #434B5C;\n",
       "      box-shadow: 0px 1px 3px 1px rgba(0, 0, 0, 0.15);\n",
       "      filter: drop-shadow(0px 1px 2px rgba(0, 0, 0, 0.3));\n",
       "      fill: #FFFFFF;\n",
       "    }\n",
       "  </style>\n",
       "\n",
       "      <script>\n",
       "        const buttonEl =\n",
       "          document.querySelector('#df-7b8f370f-e9b3-4d4a-ab71-b9f9f4053331 button.colab-df-convert');\n",
       "        buttonEl.style.display =\n",
       "          google.colab.kernel.accessAllowed ? 'block' : 'none';\n",
       "\n",
       "        async function convertToInteractive(key) {\n",
       "          const element = document.querySelector('#df-7b8f370f-e9b3-4d4a-ab71-b9f9f4053331');\n",
       "          const dataTable =\n",
       "            await google.colab.kernel.invokeFunction('convertToInteractive',\n",
       "                                                     [key], {});\n",
       "          if (!dataTable) return;\n",
       "\n",
       "          const docLinkHtml = 'Like what you see? Visit the ' +\n",
       "            '<a target=\"_blank\" href=https://colab.research.google.com/notebooks/data_table.ipynb>data table notebook</a>'\n",
       "            + ' to learn more about interactive tables.';\n",
       "          element.innerHTML = '';\n",
       "          dataTable['output_type'] = 'display_data';\n",
       "          await google.colab.output.renderOutput(dataTable, element);\n",
       "          const docLink = document.createElement('div');\n",
       "          docLink.innerHTML = docLinkHtml;\n",
       "          element.appendChild(docLink);\n",
       "        }\n",
       "      </script>\n",
       "    </div>\n",
       "  </div>\n",
       "  "
      ],
      "text/plain": [
       "   PassengerId  Survived  Pclass   Age  SibSp  Parch     Fare  male  Q  S\n",
       "0            1         0       3  22.0      1      0   7.2500     1  0  1\n",
       "1            2         1       1  38.0      1      0  71.2833     0  0  0\n",
       "2            3         1       3  26.0      0      0   7.9250     0  0  1\n",
       "3            4         1       1  35.0      1      0  53.1000     0  0  1\n",
       "4            5         0       3  35.0      0      0   8.0500     1  0  1"
      ]
     },
     "execution_count": 259,
     "metadata": {},
     "output_type": "execute_result"
    }
   ],
   "source": [
    "train.head()"
   ]
  },
  {
   "cell_type": "code",
   "execution_count": null,
   "metadata": {
    "id": "9Dcw0bM69A1h"
   },
   "outputs": [],
   "source": [
    "train.drop(\"PassengerId\",axis=1,inplace=True)"
   ]
  },
  {
   "cell_type": "code",
   "execution_count": null,
   "metadata": {
    "colab": {
     "base_uri": "https://localhost:8080/"
    },
    "id": "LhE1NV9QFfPW",
    "outputId": "5b56442b-0d23-4173-aa7d-9ed61beef80c"
   },
   "outputs": [
    {
     "name": "stderr",
     "output_type": "stream",
     "text": [
      "<ipython-input-115-12a7f01cb862>:3: FutureWarning: The frame.append method is deprecated and will be removed from pandas in a future version. Use pandas.concat instead.\n",
      "  new_data=new_data.append(train[train.Survived==1].sample(n=340,random_state=42))\n"
     ]
    }
   ],
   "source": [
    "new_data=train.copy()\n",
    "new_data=train[train.Survived==0].sample(n=380,random_state=42)\n",
    "new_data=new_data.append(train[train.Survived==1].sample(n=340,random_state=42))"
   ]
  },
  {
   "cell_type": "code",
   "execution_count": null,
   "metadata": {
    "id": "lqnKEwZiGuU1"
   },
   "outputs": [],
   "source": [
    "new_data.reset_index(inplace=True,drop=True)"
   ]
  },
  {
   "cell_type": "markdown",
   "metadata": {
    "id": "c45oYQ0P9A1i"
   },
   "source": [
    "Great! Our data is ready for our model!\n",
    "\n",
    "# Building a Logistic Regression model\n",
    "\n",
    "Let's start by splitting our data into a training set and test set (there is another test.csv file that you can play around with in case you want to use all this data for training).\n",
    "\n",
    "## Train Test Split"
   ]
  },
  {
   "cell_type": "code",
   "execution_count": null,
   "metadata": {
    "id": "HLTNjGxd9A1i"
   },
   "outputs": [],
   "source": [
    "from sklearn.model_selection import train_test_split"
   ]
  },
  {
   "cell_type": "markdown",
   "metadata": {
    "id": "qzKGuBYDCizk"
   },
   "source": []
  },
  {
   "cell_type": "markdown",
   "metadata": {
    "id": "643mBZf9Ooo5"
   },
   "source": [
    "## Stratification\n",
    "\n",
    "Stratified sampling is a sampling technique where the samples are selected in the same proportion (by dividing the population into groups called 'strata' based on a characteristic) as they appear in the population.\n",
    "\n",
    "\n",
    "![image.png](data:image/png;base64,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)"
   ]
  },
  {
   "cell_type": "markdown",
   "metadata": {
    "id": "Hp1m37gULr-s"
   },
   "source": [
    "Please note that the stratify parameter works only in the context of classification tasks where there are a fixed amount of possible outputs/targets"
   ]
  },
  {
   "cell_type": "code",
   "execution_count": null,
   "metadata": {
    "id": "71qnG-jpCmUW"
   },
   "outputs": [],
   "source": [
    "x=train.drop('Survived',axis=1)\n",
    "y=train['Survived']"
   ]
  },
  {
   "cell_type": "code",
   "execution_count": null,
   "metadata": {
    "id": "54iI5-eO9A1i"
   },
   "outputs": [],
   "source": [
    "X_train, X_test, y_train, y_test = train_test_split(x, y, test_size=0.20, \n",
    "                                                    random_state=42,stratify= y)"
   ]
  },
  {
   "cell_type": "markdown",
   "metadata": {
    "id": "zQebw2p29A1i"
   },
   "source": [
    "## Training and Predicting"
   ]
  },
  {
   "cell_type": "code",
   "execution_count": null,
   "metadata": {
    "id": "OjKjM2yE9A1i"
   },
   "outputs": [],
   "source": [
    "from sklearn.linear_model import LogisticRegression"
   ]
  },
  {
   "cell_type": "code",
   "execution_count": null,
   "metadata": {
    "colab": {
     "base_uri": "https://localhost:8080/",
     "height": 235
    },
    "id": "3vGegYaJ9A1j",
    "outputId": "0ba976d0-016e-4c6c-acfe-e18368def816"
   },
   "outputs": [
    {
     "name": "stderr",
     "output_type": "stream",
     "text": [
      "/usr/local/lib/python3.10/dist-packages/sklearn/linear_model/_logistic.py:458: ConvergenceWarning: lbfgs failed to converge (status=1):\n",
      "STOP: TOTAL NO. of ITERATIONS REACHED LIMIT.\n",
      "\n",
      "Increase the number of iterations (max_iter) or scale the data as shown in:\n",
      "    https://scikit-learn.org/stable/modules/preprocessing.html\n",
      "Please also refer to the documentation for alternative solver options:\n",
      "    https://scikit-learn.org/stable/modules/linear_model.html#logistic-regression\n",
      "  n_iter_i = _check_optimize_result(\n"
     ]
    },
    {
     "data": {
      "text/html": [
       "<style>#sk-container-id-10 {color: black;background-color: white;}#sk-container-id-10 pre{padding: 0;}#sk-container-id-10 div.sk-toggleable {background-color: white;}#sk-container-id-10 label.sk-toggleable__label {cursor: pointer;display: block;width: 100%;margin-bottom: 0;padding: 0.3em;box-sizing: border-box;text-align: center;}#sk-container-id-10 label.sk-toggleable__label-arrow:before {content: \"▸\";float: left;margin-right: 0.25em;color: #696969;}#sk-container-id-10 label.sk-toggleable__label-arrow:hover:before {color: black;}#sk-container-id-10 div.sk-estimator:hover label.sk-toggleable__label-arrow:before {color: black;}#sk-container-id-10 div.sk-toggleable__content {max-height: 0;max-width: 0;overflow: hidden;text-align: left;background-color: #f0f8ff;}#sk-container-id-10 div.sk-toggleable__content pre {margin: 0.2em;color: black;border-radius: 0.25em;background-color: #f0f8ff;}#sk-container-id-10 input.sk-toggleable__control:checked~div.sk-toggleable__content {max-height: 200px;max-width: 100%;overflow: auto;}#sk-container-id-10 input.sk-toggleable__control:checked~label.sk-toggleable__label-arrow:before {content: \"▾\";}#sk-container-id-10 div.sk-estimator input.sk-toggleable__control:checked~label.sk-toggleable__label {background-color: #d4ebff;}#sk-container-id-10 div.sk-label input.sk-toggleable__control:checked~label.sk-toggleable__label {background-color: #d4ebff;}#sk-container-id-10 input.sk-hidden--visually {border: 0;clip: rect(1px 1px 1px 1px);clip: rect(1px, 1px, 1px, 1px);height: 1px;margin: -1px;overflow: hidden;padding: 0;position: absolute;width: 1px;}#sk-container-id-10 div.sk-estimator {font-family: monospace;background-color: #f0f8ff;border: 1px dotted black;border-radius: 0.25em;box-sizing: border-box;margin-bottom: 0.5em;}#sk-container-id-10 div.sk-estimator:hover {background-color: #d4ebff;}#sk-container-id-10 div.sk-parallel-item::after {content: \"\";width: 100%;border-bottom: 1px solid gray;flex-grow: 1;}#sk-container-id-10 div.sk-label:hover label.sk-toggleable__label {background-color: #d4ebff;}#sk-container-id-10 div.sk-serial::before {content: \"\";position: absolute;border-left: 1px solid gray;box-sizing: border-box;top: 0;bottom: 0;left: 50%;z-index: 0;}#sk-container-id-10 div.sk-serial {display: flex;flex-direction: column;align-items: center;background-color: white;padding-right: 0.2em;padding-left: 0.2em;position: relative;}#sk-container-id-10 div.sk-item {position: relative;z-index: 1;}#sk-container-id-10 div.sk-parallel {display: flex;align-items: stretch;justify-content: center;background-color: white;position: relative;}#sk-container-id-10 div.sk-item::before, #sk-container-id-10 div.sk-parallel-item::before {content: \"\";position: absolute;border-left: 1px solid gray;box-sizing: border-box;top: 0;bottom: 0;left: 50%;z-index: -1;}#sk-container-id-10 div.sk-parallel-item {display: flex;flex-direction: column;z-index: 1;position: relative;background-color: white;}#sk-container-id-10 div.sk-parallel-item:first-child::after {align-self: flex-end;width: 50%;}#sk-container-id-10 div.sk-parallel-item:last-child::after {align-self: flex-start;width: 50%;}#sk-container-id-10 div.sk-parallel-item:only-child::after {width: 0;}#sk-container-id-10 div.sk-dashed-wrapped {border: 1px dashed gray;margin: 0 0.4em 0.5em 0.4em;box-sizing: border-box;padding-bottom: 0.4em;background-color: white;}#sk-container-id-10 div.sk-label label {font-family: monospace;font-weight: bold;display: inline-block;line-height: 1.2em;}#sk-container-id-10 div.sk-label-container {text-align: center;}#sk-container-id-10 div.sk-container {/* jupyter's `normalize.less` sets `[hidden] { display: none; }` but bootstrap.min.css set `[hidden] { display: none !important; }` so we also need the `!important` here to be able to override the default hidden behavior on the sphinx rendered scikit-learn.org. See: https://github.com/scikit-learn/scikit-learn/issues/21755 */display: inline-block !important;position: relative;}#sk-container-id-10 div.sk-text-repr-fallback {display: none;}</style><div id=\"sk-container-id-10\" class=\"sk-top-container\"><div class=\"sk-text-repr-fallback\"><pre>LogisticRegression()</pre><b>In a Jupyter environment, please rerun this cell to show the HTML representation or trust the notebook. <br />On GitHub, the HTML representation is unable to render, please try loading this page with nbviewer.org.</b></div><div class=\"sk-container\" hidden><div class=\"sk-item\"><div class=\"sk-estimator sk-toggleable\"><input class=\"sk-toggleable__control sk-hidden--visually\" id=\"sk-estimator-id-10\" type=\"checkbox\" checked><label for=\"sk-estimator-id-10\" class=\"sk-toggleable__label sk-toggleable__label-arrow\">LogisticRegression</label><div class=\"sk-toggleable__content\"><pre>LogisticRegression()</pre></div></div></div></div></div>"
      ],
      "text/plain": [
       "LogisticRegression()"
      ]
     },
     "execution_count": 142,
     "metadata": {},
     "output_type": "execute_result"
    }
   ],
   "source": [
    "logmodel = LogisticRegression()\n",
    "logmodel.fit(X_train,y_train)"
   ]
  },
  {
   "cell_type": "code",
   "execution_count": null,
   "metadata": {
    "id": "uCC8QWb49A1j"
   },
   "outputs": [],
   "source": [
    "predictions = logmodel.predict(X_test)"
   ]
  },
  {
   "cell_type": "markdown",
   "metadata": {
    "id": "ug18qRGH9A1j"
   },
   "source": [
    "Let's move on to evaluate our model!"
   ]
  },
  {
   "cell_type": "markdown",
   "metadata": {
    "id": "FPSKWzu29A1j"
   },
   "source": [
    "## Evaluation"
   ]
  },
  {
   "cell_type": "markdown",
   "metadata": {
    "id": "_hGHmsmS9A1j"
   },
   "source": [
    "We can check precision,recall,f1-score using classification report!"
   ]
  },
  {
   "cell_type": "code",
   "execution_count": null,
   "metadata": {
    "id": "_0q4jaCt9A1j"
   },
   "outputs": [],
   "source": [
    "from sklearn.metrics import classification_report"
   ]
  },
  {
   "cell_type": "code",
   "execution_count": null,
   "metadata": {
    "colab": {
     "base_uri": "https://localhost:8080/"
    },
    "id": "WltbvprhsoTy",
    "outputId": "facb7e99-7ab9-4da4-fca8-9cdf9b4f1946"
   },
   "outputs": [
    {
     "name": "stdout",
     "output_type": "stream",
     "text": [
      "              precision    recall  f1-score   support\n",
      "\n",
      "           0       0.81      0.89      0.85       110\n",
      "           1       0.79      0.66      0.72        68\n",
      "\n",
      "    accuracy                           0.80       178\n",
      "   macro avg       0.80      0.78      0.78       178\n",
      "weighted avg       0.80      0.80      0.80       178\n",
      "\n"
     ]
    }
   ],
   "source": [
    "print(classification_report(y_test,predictions))"
   ]
  },
  {
   "cell_type": "code",
   "execution_count": null,
   "metadata": {
    "colab": {
     "base_uri": "https://localhost:8080/"
    },
    "id": "JMidIi35ygw5",
    "outputId": "fb8132cb-3cca-42f7-aee3-08d8d75f600a"
   },
   "outputs": [
    {
     "data": {
      "text/plain": [
       "array([[98, 23],\n",
       "       [12, 45]])"
      ]
     },
     "execution_count": 146,
     "metadata": {},
     "output_type": "execute_result"
    }
   ],
   "source": [
    "confusion_matrix(predictions,y_test)"
   ]
  },
  {
   "cell_type": "code",
   "execution_count": null,
   "metadata": {
    "colab": {
     "base_uri": "https://localhost:8080/"
    },
    "id": "auKVCIkZtcj0",
    "outputId": "a03be451-d42d-43ac-8d51-3248d2161b4c"
   },
   "outputs": [
    {
     "data": {
      "text/plain": [
       "0.8033707865168539"
      ]
     },
     "execution_count": 147,
     "metadata": {},
     "output_type": "execute_result"
    }
   ],
   "source": [
    "from sklearn.metrics import accuracy_score,precision_score,recall_score\n",
    "accuracy_score(predictions,y_test)"
   ]
  },
  {
   "cell_type": "code",
   "execution_count": null,
   "metadata": {
    "colab": {
     "base_uri": "https://localhost:8080/"
    },
    "id": "EoVFXUz9uMU4",
    "outputId": "3a055d84-b387-44f0-9499-78a0e97e57ae"
   },
   "outputs": [
    {
     "data": {
      "text/plain": [
       "0.7894736842105263"
      ]
     },
     "execution_count": 148,
     "metadata": {},
     "output_type": "execute_result"
    }
   ],
   "source": [
    "precision_score(y_test,predictions)\n"
   ]
  },
  {
   "cell_type": "code",
   "execution_count": null,
   "metadata": {
    "colab": {
     "base_uri": "https://localhost:8080/"
    },
    "id": "kYglLuc4uN8O",
    "outputId": "78973c7e-b52c-48e1-9073-c35afcfb136d"
   },
   "outputs": [
    {
     "data": {
      "text/plain": [
       "0.6617647058823529"
      ]
     },
     "execution_count": 149,
     "metadata": {},
     "output_type": "execute_result"
    }
   ],
   "source": [
    "recall_score(y_test,predictions)"
   ]
  },
  {
   "cell_type": "markdown",
   "metadata": {
    "id": "Icuxps-B9A1k"
   },
   "source": [
    "Not so bad! You might want to explore other feature engineering and the other titanic_text.csv file, some suggestions for feature engineering:\n",
    "\n"
   ]
  },
  {
   "cell_type": "code",
   "execution_count": null,
   "metadata": {
    "id": "fWXzi7At9A1k"
   },
   "outputs": [],
   "source": [
    "from sklearn.neighbors import KNeighborsClassifier\n"
   ]
  },
  {
   "cell_type": "code",
   "execution_count": null,
   "metadata": {
    "id": "AeNlNjR09A1k"
   },
   "outputs": [],
   "source": [
    "knn = KNeighborsClassifier(n_neighbors=1)"
   ]
  },
  {
   "cell_type": "code",
   "execution_count": null,
   "metadata": {
    "colab": {
     "base_uri": "https://localhost:8080/",
     "height": 74
    },
    "id": "Caf1hK319A1k",
    "outputId": "0835089e-df6f-4598-82fd-b01de89c8c30"
   },
   "outputs": [
    {
     "data": {
      "text/html": [
       "<style>#sk-container-id-11 {color: black;background-color: white;}#sk-container-id-11 pre{padding: 0;}#sk-container-id-11 div.sk-toggleable {background-color: white;}#sk-container-id-11 label.sk-toggleable__label {cursor: pointer;display: block;width: 100%;margin-bottom: 0;padding: 0.3em;box-sizing: border-box;text-align: center;}#sk-container-id-11 label.sk-toggleable__label-arrow:before {content: \"▸\";float: left;margin-right: 0.25em;color: #696969;}#sk-container-id-11 label.sk-toggleable__label-arrow:hover:before {color: black;}#sk-container-id-11 div.sk-estimator:hover label.sk-toggleable__label-arrow:before {color: black;}#sk-container-id-11 div.sk-toggleable__content {max-height: 0;max-width: 0;overflow: hidden;text-align: left;background-color: #f0f8ff;}#sk-container-id-11 div.sk-toggleable__content pre {margin: 0.2em;color: black;border-radius: 0.25em;background-color: #f0f8ff;}#sk-container-id-11 input.sk-toggleable__control:checked~div.sk-toggleable__content {max-height: 200px;max-width: 100%;overflow: auto;}#sk-container-id-11 input.sk-toggleable__control:checked~label.sk-toggleable__label-arrow:before {content: \"▾\";}#sk-container-id-11 div.sk-estimator input.sk-toggleable__control:checked~label.sk-toggleable__label {background-color: #d4ebff;}#sk-container-id-11 div.sk-label input.sk-toggleable__control:checked~label.sk-toggleable__label {background-color: #d4ebff;}#sk-container-id-11 input.sk-hidden--visually {border: 0;clip: rect(1px 1px 1px 1px);clip: rect(1px, 1px, 1px, 1px);height: 1px;margin: -1px;overflow: hidden;padding: 0;position: absolute;width: 1px;}#sk-container-id-11 div.sk-estimator {font-family: monospace;background-color: #f0f8ff;border: 1px dotted black;border-radius: 0.25em;box-sizing: border-box;margin-bottom: 0.5em;}#sk-container-id-11 div.sk-estimator:hover {background-color: #d4ebff;}#sk-container-id-11 div.sk-parallel-item::after {content: \"\";width: 100%;border-bottom: 1px solid gray;flex-grow: 1;}#sk-container-id-11 div.sk-label:hover label.sk-toggleable__label {background-color: #d4ebff;}#sk-container-id-11 div.sk-serial::before {content: \"\";position: absolute;border-left: 1px solid gray;box-sizing: border-box;top: 0;bottom: 0;left: 50%;z-index: 0;}#sk-container-id-11 div.sk-serial {display: flex;flex-direction: column;align-items: center;background-color: white;padding-right: 0.2em;padding-left: 0.2em;position: relative;}#sk-container-id-11 div.sk-item {position: relative;z-index: 1;}#sk-container-id-11 div.sk-parallel {display: flex;align-items: stretch;justify-content: center;background-color: white;position: relative;}#sk-container-id-11 div.sk-item::before, #sk-container-id-11 div.sk-parallel-item::before {content: \"\";position: absolute;border-left: 1px solid gray;box-sizing: border-box;top: 0;bottom: 0;left: 50%;z-index: -1;}#sk-container-id-11 div.sk-parallel-item {display: flex;flex-direction: column;z-index: 1;position: relative;background-color: white;}#sk-container-id-11 div.sk-parallel-item:first-child::after {align-self: flex-end;width: 50%;}#sk-container-id-11 div.sk-parallel-item:last-child::after {align-self: flex-start;width: 50%;}#sk-container-id-11 div.sk-parallel-item:only-child::after {width: 0;}#sk-container-id-11 div.sk-dashed-wrapped {border: 1px dashed gray;margin: 0 0.4em 0.5em 0.4em;box-sizing: border-box;padding-bottom: 0.4em;background-color: white;}#sk-container-id-11 div.sk-label label {font-family: monospace;font-weight: bold;display: inline-block;line-height: 1.2em;}#sk-container-id-11 div.sk-label-container {text-align: center;}#sk-container-id-11 div.sk-container {/* jupyter's `normalize.less` sets `[hidden] { display: none; }` but bootstrap.min.css set `[hidden] { display: none !important; }` so we also need the `!important` here to be able to override the default hidden behavior on the sphinx rendered scikit-learn.org. See: https://github.com/scikit-learn/scikit-learn/issues/21755 */display: inline-block !important;position: relative;}#sk-container-id-11 div.sk-text-repr-fallback {display: none;}</style><div id=\"sk-container-id-11\" class=\"sk-top-container\"><div class=\"sk-text-repr-fallback\"><pre>KNeighborsClassifier(n_neighbors=1)</pre><b>In a Jupyter environment, please rerun this cell to show the HTML representation or trust the notebook. <br />On GitHub, the HTML representation is unable to render, please try loading this page with nbviewer.org.</b></div><div class=\"sk-container\" hidden><div class=\"sk-item\"><div class=\"sk-estimator sk-toggleable\"><input class=\"sk-toggleable__control sk-hidden--visually\" id=\"sk-estimator-id-11\" type=\"checkbox\" checked><label for=\"sk-estimator-id-11\" class=\"sk-toggleable__label sk-toggleable__label-arrow\">KNeighborsClassifier</label><div class=\"sk-toggleable__content\"><pre>KNeighborsClassifier(n_neighbors=1)</pre></div></div></div></div></div>"
      ],
      "text/plain": [
       "KNeighborsClassifier(n_neighbors=1)"
      ]
     },
     "execution_count": 152,
     "metadata": {},
     "output_type": "execute_result"
    }
   ],
   "source": [
    "knn.fit(X_train, y_train)\n"
   ]
  },
  {
   "cell_type": "code",
   "execution_count": null,
   "metadata": {
    "id": "uZfyr5cw9A1k"
   },
   "outputs": [],
   "source": [
    "predictions = knn.predict(X_test)\n"
   ]
  },
  {
   "cell_type": "code",
   "execution_count": null,
   "metadata": {
    "colab": {
     "base_uri": "https://localhost:8080/"
    },
    "id": "zI5VGNibsxRz",
    "outputId": "e32fe58a-65bd-474c-c5c6-81276e50b334"
   },
   "outputs": [
    {
     "name": "stdout",
     "output_type": "stream",
     "text": [
      "              precision    recall  f1-score   support\n",
      "\n",
      "           0       0.82      0.74      0.78       121\n",
      "           1       0.54      0.65      0.59        57\n",
      "\n",
      "    accuracy                           0.71       178\n",
      "   macro avg       0.68      0.70      0.69       178\n",
      "weighted avg       0.73      0.71      0.72       178\n",
      "\n"
     ]
    }
   ],
   "source": [
    "print(classification_report(predictions,y_test))"
   ]
  },
  {
   "cell_type": "code",
   "execution_count": null,
   "metadata": {
    "colab": {
     "base_uri": "https://localhost:8080/"
    },
    "id": "3FVH0gcYswHq",
    "outputId": "ed7ebdf8-b417-4007-f6fc-b2ad85cbb4d3"
   },
   "outputs": [
    {
     "data": {
      "text/plain": [
       "0.7134831460674157"
      ]
     },
     "execution_count": 155,
     "metadata": {},
     "output_type": "execute_result"
    }
   ],
   "source": [
    "\n",
    "accuracy_score(predictions,y_test)\n"
   ]
  },
  {
   "cell_type": "code",
   "execution_count": null,
   "metadata": {
    "colab": {
     "base_uri": "https://localhost:8080/"
    },
    "id": "zX62iRGUthYK",
    "outputId": "fc80acb7-fad1-4d1a-ca0f-fd3b8e0d7c33"
   },
   "outputs": [
    {
     "data": {
      "text/plain": [
       "0.5441176470588235"
      ]
     },
     "execution_count": 156,
     "metadata": {},
     "output_type": "execute_result"
    }
   ],
   "source": [
    "precision_score(predictions,y_test)"
   ]
  },
  {
   "cell_type": "code",
   "execution_count": null,
   "metadata": {
    "colab": {
     "base_uri": "https://localhost:8080/"
    },
    "id": "ta0UWe1x9A1k",
    "outputId": "d527c379-ddf1-4dc9-ffd1-4310313518ae"
   },
   "outputs": [
    {
     "data": {
      "text/plain": [
       "0.6491228070175439"
      ]
     },
     "execution_count": 157,
     "metadata": {},
     "output_type": "execute_result"
    }
   ],
   "source": [
    "\n",
    "recall_score(predictions,y_test)"
   ]
  },
  {
   "cell_type": "code",
   "execution_count": null,
   "metadata": {
    "colab": {
     "base_uri": "https://localhost:8080/"
    },
    "id": "JbfE_gJV9A1l",
    "outputId": "dbecb33b-584f-4fd4-a5be-e1c67a2142fa"
   },
   "outputs": [
    {
     "name": "stdout",
     "output_type": "stream",
     "text": [
      "              precision    recall  f1-score   support\n",
      "\n",
      "           0       0.81      0.81      0.81       110\n",
      "           1       0.69      0.69      0.69        68\n",
      "\n",
      "    accuracy                           0.76       178\n",
      "   macro avg       0.75      0.75      0.75       178\n",
      "weighted avg       0.76      0.76      0.76       178\n",
      "\n"
     ]
    }
   ],
   "source": [
    "from sklearn.tree import DecisionTreeClassifier\n",
    "\n",
    "tree = DecisionTreeClassifier()\n",
    "tree.fit(X_train,y_train)\n",
    "\n",
    "predictions = tree.predict(X_test)\n",
    "\n",
    "\n",
    "print(classification_report(predictions,y_test))"
   ]
  },
  {
   "cell_type": "code",
   "execution_count": null,
   "metadata": {
    "colab": {
     "base_uri": "https://localhost:8080/"
    },
    "id": "z7Ns5hlDtpLl",
    "outputId": "5c60b8b0-070c-496e-c50c-b7d69e6d4c51"
   },
   "outputs": [
    {
     "data": {
      "text/plain": [
       "0.7640449438202247"
      ]
     },
     "execution_count": 159,
     "metadata": {},
     "output_type": "execute_result"
    }
   ],
   "source": [
    "\n",
    "accuracy_score(predictions,y_test)"
   ]
  },
  {
   "cell_type": "code",
   "execution_count": null,
   "metadata": {
    "colab": {
     "base_uri": "https://localhost:8080/"
    },
    "id": "MUa5DmtMvBTf",
    "outputId": "76e9a827-c074-4b07-c3e2-b69dc51b4da7"
   },
   "outputs": [
    {
     "data": {
      "text/plain": [
       "0.6911764705882353"
      ]
     },
     "execution_count": 160,
     "metadata": {},
     "output_type": "execute_result"
    }
   ],
   "source": [
    "precision_score(predictions,y_test)"
   ]
  }
 ],
 "metadata": {
  "colab": {
   "provenance": []
  },
  "kernelspec": {
   "display_name": "Python 3 (ipykernel)",
   "language": "python",
   "name": "python3"
  },
  "language_info": {
   "codemirror_mode": {
    "name": "ipython",
    "version": 3
   },
   "file_extension": ".py",
   "mimetype": "text/x-python",
   "name": "python",
   "nbconvert_exporter": "python",
   "pygments_lexer": "ipython3",
   "version": "3.9.12"
  }
 },
 "nbformat": 4,
 "nbformat_minor": 1
}
